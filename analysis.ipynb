{
 "cells": [
  {
   "cell_type": "code",
   "execution_count": null,
   "metadata": {
    "collapsed": true
   },
   "outputs": [],
   "source": [
    "# import dependencies\n",
    "import pandas as pd\n",
    "import seaborn as sns\n",
    "import matplotlib.pyplot as plt\n",
    "\n",
    "from torch import nn"
   ]
  },
  {
   "cell_type": "markdown",
   "source": [
    "# Initiation of model classes"
   ],
   "metadata": {
    "collapsed": false
   }
  },
  {
   "cell_type": "code",
   "execution_count": null,
   "outputs": [],
   "source": [
    "# Model 1\n",
    "class IaroHasNoFashionNet1(nn.Module):\n",
    "\n",
    "    # define the class constructor\n",
    "    def __init__(self):\n",
    "\n",
    "        # call super class constructor\n",
    "        super(IaroHasNoFashionNet1, self).__init__()\n",
    "\n",
    "        # specify convolution layer 1\n",
    "        self.conv1 = nn.Conv2d(in_channels=1, out_channels=3, kernel_size=5, stride=1, padding=0)\n",
    "\n",
    "        # define max-pooling layer 1\n",
    "        self.pool1 = nn.MaxPool2d(kernel_size=2, stride=2)\n",
    "\n",
    "        # specify fully-connected (fc) layer 1 - in 12*12*3, out 48\n",
    "        self.linear1 = nn.Linear(12*12*3, 48, bias=True)  # the linearity W*x+b\n",
    "        self.relu1 = nn.ReLU(inplace=True)  # the non-linearity\n",
    "\n",
    "        # specify fc layer 2 - in 48, out 10\n",
    "        self.linear2 = nn.Linear(48, 10, bias=True)  # the linearity W*x+b\n",
    "\n",
    "        # add a softmax to the last layer\n",
    "        self.logsoftmax = nn.LogSoftmax(dim=1)  # the softmax\n",
    "\n",
    "    # define network forward pass\n",
    "    def forward(self, images):\n",
    "        # high-level feature learning via convolutional layers\n",
    "\n",
    "        # define conv layer 1 forward pass\n",
    "        x = self.pool1(self.relu1(self.conv1(images)))\n",
    "\n",
    "        # reshape image pixels\n",
    "        x = x.view(-1, 12*12*3)\n",
    "\n",
    "        # define fc layer 1 forward pass\n",
    "        x = self.relu1(self.linear1(x))\n",
    "\n",
    "        # define layer 2 forward pass\n",
    "        x = self.logsoftmax(self.linear2(x))\n",
    "\n",
    "        # return forward pass result\n",
    "        return x"
   ],
   "metadata": {
    "collapsed": false
   }
  },
  {
   "cell_type": "code",
   "execution_count": null,
   "outputs": [],
   "source": [
    "# Model 3\n",
    "class IaroHasNoFashionNet3(nn.Module):\n",
    "\n",
    "    # define the class constructor\n",
    "    def __init__(self):\n",
    "\n",
    "        # call super class constructor\n",
    "        super(IaroHasNoFashionNet3, self).__init__()\n",
    "\n",
    "        # specify convolution layer 1\n",
    "        self.conv1 = nn.Conv2d(in_channels=1, out_channels=60, kernel_size=5, stride=1, padding=0)\n",
    "\n",
    "        # define max-pooling layer 1\n",
    "        self.pool1 = nn.MaxPool2d(kernel_size=2, stride=2)\n",
    "\n",
    "        # specify convolution layer 2\n",
    "        self.conv2 = nn.Conv2d(in_channels=60, out_channels=20, kernel_size=3, stride=1, padding=0)\n",
    "\n",
    "        # specify fully-connected (fc) layer 1 - in 8*8*20, out 640\n",
    "        self.linear1 = nn.Linear(10*10*20, 1000, bias=True)  # the linearity W*x+b\n",
    "        self.relu1 = nn.ReLU(inplace=True)  # the non-linearity\n",
    "\n",
    "        # specify fc layer 2 - in 640, out 100\n",
    "        self.linear2 = nn.Linear(1000, 100, bias=True)  # the linearity W*x+b\n",
    "\n",
    "        # specify fc layer 2 - in 100, out 10\n",
    "        self.linear3 = nn.Linear(100, 10, bias=True)  # the linearity W*x+b\n",
    "\n",
    "        # add a softmax to the last layer\n",
    "        self.logsoftmax = nn.LogSoftmax(dim=1)  # the softmax\n",
    "\n",
    "    # define network forward pass\n",
    "    def forward(self, images):\n",
    "        # high-level feature learning via convolutional layers\n",
    "\n",
    "        # define conv layer 1 forward pass\n",
    "        x = self.pool1(self.relu1(self.conv1(images)))\n",
    "\n",
    "        # define conv layer 2 forward pass\n",
    "        x = self.relu1(self.conv2(x))\n",
    "\n",
    "        # reshape image pixels\n",
    "        x = x.view(-1, 10*10*20)\n",
    "\n",
    "        # define fc layer 1 forward pass\n",
    "        x = self.relu1(self.linear1(x))\n",
    "\n",
    "        # define fc layer 2 forward pass\n",
    "        x = self.relu1(self.linear2(x))\n",
    "\n",
    "        # define layer 3 forward pass\n",
    "        x = self.logsoftmax(self.linear3(x))\n",
    "\n",
    "        # return forward pass result\n",
    "        return x"
   ],
   "metadata": {
    "collapsed": false
   }
  },
  {
   "cell_type": "code",
   "execution_count": null,
   "outputs": [],
   "source": [
    "# Model 4\n",
    "class IaroHasNoFashionNet4(nn.Module):\n",
    "\n",
    "    # define the class constructor\n",
    "    def __init__(self):\n",
    "\n",
    "        # call super class constructor\n",
    "        super(IaroHasNoFashionNet4, self).__init__()\n",
    "\n",
    "        # specify convolution layer 1\n",
    "        self.conv1 = nn.Conv2d(in_channels=1, out_channels=20, kernel_size=3, stride=1, padding=0)\n",
    "\n",
    "        # define max-pooling layer 1\n",
    "        self.pool1 = nn.MaxPool2d(kernel_size=2, stride=2)\n",
    "\n",
    "        # specify convolution layer 2\n",
    "        self.conv2 = nn.Conv2d(in_channels=20, out_channels=60, kernel_size=3, stride=1, padding=1)\n",
    "\n",
    "        # specify fully-connected (fc) layer 1 - in 8*8*20, out 640\n",
    "        self.linear1 = nn.Linear(6*6*60, 1000, bias=True)  # the linearity W*x+b\n",
    "        self.relu1 = nn.ReLU(inplace=True)  # the non-linearity\n",
    "\n",
    "        # specify fc layer 2 - in 640, out 100\n",
    "        self.linear2 = nn.Linear(1000, 100, bias=True)  # the linearity W*x+b\n",
    "\n",
    "        # specify fc layer 2 - in 100, out 10\n",
    "        self.linear3 = nn.Linear(100, 10, bias=True)  # the linearity W*x+b\n",
    "\n",
    "        # add a softmax to the last layer\n",
    "        self.logsoftmax = nn.LogSoftmax(dim=1)  # the softmax\n",
    "\n",
    "    # define network forward pass\n",
    "    def forward(self, images):\n",
    "        # high-level feature learning via convolutional layers\n",
    "\n",
    "        # define conv layer 1 forward pass\n",
    "        x = self.pool1(self.relu1(self.conv1(images)))\n",
    "\n",
    "        # define conv layer 2 forward pass\n",
    "        x = self.pool1(self.relu1(self.conv2(x)))\n",
    "\n",
    "        # reshape image pixels\n",
    "        x = x.view(-1, 6*6*60)\n",
    "\n",
    "        # define fc layer 1 forward pass\n",
    "        x = self.relu1(self.linear1(x))\n",
    "\n",
    "        # define fc layer 2 forward pass\n",
    "        x = self.relu1(self.linear2(x))\n",
    "\n",
    "        # define layer 3 forward pass\n",
    "        x = self.logsoftmax(self.linear3(x))\n",
    "\n",
    "        # return forward pass result\n",
    "        return x"
   ],
   "metadata": {
    "collapsed": false
   }
  },
  {
   "cell_type": "markdown",
   "source": [
    "# Analysis of the results\n",
    "\n",
    "Select below the model to analyze:\n",
    "- 1 - IaroHasNoFashionNet1\n",
    "- 2 - IaroHasNoFashionNet2\n",
    "- 3 - IaroHasNoFashionNet3\n",
    "- 4 - IaroHasNoFashionNet4"
   ],
   "metadata": {
    "collapsed": false
   }
  },
  {
   "cell_type": "code",
   "execution_count": null,
   "outputs": [],
   "source": [
    "# Select the model to analyze\n",
    "model = 1"
   ],
   "metadata": {
    "collapsed": false
   }
  },
  {
   "cell_type": "code",
   "execution_count": null,
   "outputs": [],
   "source": [
    "# load the training and evaluation results\n",
    "file_url = f'https://github.com/iarokr/gserm-dl-homework/raw/main/models_fmnist/m{model}_training_results.pkl'\n",
    "model_results = pd.read_pickle(file_url)\n",
    "model_results"
   ],
   "metadata": {
    "collapsed": false
   }
  },
  {
   "cell_type": "markdown",
   "source": [
    "# Plot training losses for different learning rates and mini-batch sizes"
   ],
   "metadata": {
    "collapsed": false
   }
  },
  {
   "cell_type": "code",
   "execution_count": null,
   "outputs": [],
   "source": [
    "# extract the training loss\n",
    "df = model_results.explode('train_epoch_losses', ignore_index=True)\n",
    "df['pos']=df.index % 100\n",
    "\n",
    "# change the values in min_batch_size column to string\n",
    "df.mini_batch_size = df.mini_batch_size.astype(str)\n",
    "\n",
    "# using sns create subplots for each unique value of learning rate\n",
    "fig, ax = plt.subplots(2, 2, sharex=True, figsize=(16,8))\n",
    "fig.suptitle('IaroHasNoFashionNet' + str(model) + '- Train Epoch Losses')\n",
    "\n",
    "for lr, ax in zip(df.lr.unique(), ax.flatten()):\n",
    "    sns.lineplot(x='pos', y='train_epoch_losses', data=df[df.lr == lr], hue='mini_batch_size', palette=\"Greens\", ax=ax)\n",
    "    ax.set_title(f'lr = {lr}')\n",
    "    ax.set_xlabel('Epoch')\n",
    "    ax.set_ylabel('Train Loss')\n",
    "    ax.set_ylim(0, 2.5)\n",
    "    ax.set_xlim(0, 100)\n",
    "    ax.grid(True)\n"
   ],
   "metadata": {
    "collapsed": false
   }
  },
  {
   "cell_type": "markdown",
   "source": [
    "# Plot evaluation accuracies for different learning rates and mini-batch sizes"
   ],
   "metadata": {
    "collapsed": false
   }
  },
  {
   "cell_type": "code",
   "execution_count": null,
   "outputs": [],
   "source": [
    "# set up the figure and axes\n",
    "df = model_results.copy(deep=True)\n",
    "\n",
    "df.mini_batch_size = df.mini_batch_size.astype(\"category\")\n",
    "\n",
    "fig = plt.figure(figsize=(12, 8))\n",
    "fig.suptitle('IaroHasNoFashionNet' + str(model) + '- Evaluation accuracy')\n",
    "\n",
    "ax = fig.subplots()\n",
    "ax.set_xlabel('Learning rate')\n",
    "ax.set_ylabel('Evaluation accuracy')\n",
    "sns.stripplot(x='lr', y='accuracy', data=df, hue='mini_batch_size', s=10, ax=ax)\n",
    "ax.set_ylim(0.5, 1)"
   ],
   "metadata": {
    "collapsed": false
   }
  },
  {
   "cell_type": "markdown",
   "source": [
    "# Plot confusion matrix for the selected model\n",
    "\n",
    "Specify the parameters for the model to plot the confusion matrix"
   ],
   "metadata": {
    "collapsed": false
   }
  },
  {
   "cell_type": "code",
   "execution_count": null,
   "outputs": [],
   "source": [
    "mat_lr = 0.001 # possible values: 0.0005, 0.001, 0.005, 0.01\n",
    "mat_mbs = 8 # possible values: 8, 16, 32, 64, 128, 256, 512"
   ],
   "metadata": {
    "collapsed": false
   }
  },
  {
   "cell_type": "code",
   "execution_count": null,
   "outputs": [],
   "source": [
    "mat = model_results[(model_results.lr == mat_lr) & (model_results.mini_batch_size == mat_mbs)].conf_matrix.values[0]\n",
    "# define fashion mnist classes\n",
    "fashion_classes = {0: 'T-shirt/top',\n",
    "                    1: 'Trouser',\n",
    "                    2: 'Pullover',\n",
    "                    3: 'Dress',\n",
    "                    4: 'Coat',\n",
    "                    5: 'Sandal',\n",
    "                    6: 'Shirt',\n",
    "                    7: 'Sneaker',\n",
    "                    8: 'Bag',\n",
    "                    9: 'Ankle boot'}\n",
    "# initialize the plot and define size\n",
    "plt.figure(figsize=(8, 8))\n",
    "\n",
    "# plot corresponding confusion matrix\n",
    "sns.heatmap(mat.T, square=True, annot=True, fmt='d', cbar=False, cmap='YlOrRd_r', xticklabels=fashion_classes.values(), yticklabels=fashion_classes.values())\n",
    "plt.tick_params(axis='both', which='major', labelsize=8, labelbottom = False, bottom=False, top = False, left = False, labeltop=True)\n",
    "\n",
    "# set plot title\n",
    "plt.title('IaroHasNoFashionNet' + str(model) + ' classification matrix (lr = ' + str(mat_lr) + ', mbs = ' + str(mat_mbs) + ')')\n",
    "\n",
    "# set plot axis lables\n",
    "plt.xlabel('[true label]')\n",
    "plt.ylabel('[predicted label]');"
   ],
   "metadata": {
    "collapsed": false
   }
  },
  {
   "cell_type": "markdown",
   "source": [
    "# Comparison of training and evaluation losses"
   ],
   "metadata": {
    "collapsed": false
   }
  },
  {
   "cell_type": "code",
   "execution_count": null,
   "outputs": [],
   "source": [
    "fig = plt.figure(figsize=(12, 8))\n",
    "fig.suptitle('IaroHasNoFashionNet' + str(model) + '- Training vs Evaluation loss')\n",
    "\n",
    "ax = fig.subplots()\n",
    "ax.set_xlabel('Training loss')\n",
    "ax.set_ylabel('Evaluation loss')\n",
    "sns.scatterplot(x='min_loss', y='eval_loss', data=df, hue='mini_batch_size', s=100, ax=ax)\n",
    "ax.set_xlim(-0.01, 1.0)\n",
    "ax.set_ylim(-0.01, 1.0)"
   ],
   "metadata": {
    "collapsed": false
   }
  }
 ],
 "metadata": {
  "kernelspec": {
   "display_name": "Python 3",
   "language": "python",
   "name": "python3"
  },
  "language_info": {
   "codemirror_mode": {
    "name": "ipython",
    "version": 2
   },
   "file_extension": ".py",
   "mimetype": "text/x-python",
   "name": "python",
   "nbconvert_exporter": "python",
   "pygments_lexer": "ipython2",
   "version": "2.7.6"
  }
 },
 "nbformat": 4,
 "nbformat_minor": 0
}
