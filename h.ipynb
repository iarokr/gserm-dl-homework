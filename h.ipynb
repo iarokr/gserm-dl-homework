{
  "cells": [
    {
      "cell_type": "code",
      "execution_count": 1,
      "metadata": {
        "collapsed": true,
        "ExecuteTime": {
          "end_time": "2023-06-12T10:32:59.656881Z",
          "start_time": "2023-06-12T10:32:58.223089Z"
        },
        "id": "qG3FIaNALRyO"
      },
      "outputs": [],
      "source": [
        "#import dependencies\n",
        "import os, urllib, io\n",
        "from datetime import datetime\n",
        "import numpy as np\n",
        "\n",
        "import pandas as pd\n",
        "import torch, torchvision\n",
        "from torch import nn, optim\n",
        "from torch.autograd import Variable\n",
        "\n",
        "import matplotlib.pyplot as plt\n",
        "import seaborn as sns\n",
        "%matplotlib inline\n",
        "\n",
        "from sklearn import metrics\n",
        "from sklearn.metrics import confusion_matrix"
      ]
    },
    {
      "cell_type": "code",
      "execution_count": 3,
      "outputs": [
        {
          "output_type": "stream",
          "name": "stdout",
          "text": [
            "Mounted at /content/drive\n"
          ]
        }
      ],
      "source": [
        "# import the Google Colab GDrive connector\n",
        "from google.colab import drive\n",
        "\n",
        "# mount GDrive inside the Colab notebook\n",
        "drive.mount('/content/drive')\n",
        "\n",
        "# create Colab Notebooks directory\n",
        "notebook_directory = '/content/drive/MyDrive/Colab Notebooks'\n",
        "if not os.path.exists(notebook_directory): os.makedirs(notebook_directory)\n",
        "\n",
        "# create data sub-directory inside the Colab Notebooks directory\n",
        "data_directory = '/content/drive/MyDrive/Colab Notebooks/data_fmnist'\n",
        "if not os.path.exists(data_directory): os.makedirs(data_directory)\n",
        "\n",
        "# create models sub-directory inside the Colab Notebooks directory\n",
        "models_directory = '/content/drive/MyDrive/Colab Notebooks/models_fmnist'\n",
        "if not os.path.exists(models_directory): os.makedirs(models_directory)"
      ],
      "metadata": {
        "ExecuteTime": {
          "end_time": "2023-06-12T10:32:59.659339Z",
          "start_time": "2023-06-12T10:32:59.657308Z"
        },
        "colab": {
          "base_uri": "https://localhost:8080/"
        },
        "id": "Kd48p1W5LRyR",
        "outputId": "f140d2e8-f737-4e27-fa1d-7513226df255"
      }
    },
    {
      "cell_type": "code",
      "source": [
        "# create the data sub-directory\n",
        "# data_directory = './data_fmnist'\n",
        "# if not os.path.exists(data_directory): os.makedirs(data_directory)\n",
        "\n",
        "# create the models sub-directory\n",
        "# models_directory = './models_fmnist'\n",
        "# if not os.path.exists(models_directory): os.makedirs(models_directory)"
      ],
      "metadata": {
        "id": "jigO1S2j1PTi"
      },
      "execution_count": 4,
      "outputs": []
    },
    {
      "cell_type": "code",
      "execution_count": 5,
      "outputs": [],
      "source": [
        "# initialize the seed\n",
        "seed = 42\n",
        "np.random.seed(seed)"
      ],
      "metadata": {
        "ExecuteTime": {
          "end_time": "2023-06-12T10:32:59.662914Z",
          "start_time": "2023-06-12T10:32:59.661518Z"
        },
        "id": "3Euf3lWrLRyS"
      }
    },
    {
      "cell_type": "code",
      "execution_count": 6,
      "outputs": [
        {
          "output_type": "stream",
          "name": "stdout",
          "text": [
            "[LOG] notebook with cuda computation enabled\n"
          ]
        }
      ],
      "source": [
        "# select the device to be used for training\n",
        "device = torch.device('mps' if torch.backends.mps.is_available() else 'cuda' if torch.cuda.is_available() else 'cpu').type\n",
        "\n",
        "# init seed for every device\n",
        "torch.manual_seed(seed) # cpu\n",
        "torch.cuda.manual_seed(seed) # gpu\n",
        "torch.mps.manual_seed(seed) # mps\n",
        "\n",
        "# log type of device enabled\n",
        "print('[LOG] notebook with {} computation enabled'.format(str(device)))"
      ],
      "metadata": {
        "ExecuteTime": {
          "end_time": "2023-06-12T10:32:59.694038Z",
          "start_time": "2023-06-12T10:32:59.683551Z"
        },
        "colab": {
          "base_uri": "https://localhost:8080/"
        },
        "id": "rDZHVYQPLRyS",
        "outputId": "31836e7f-8def-45dc-9454-8c3332011906"
      }
    },
    {
      "cell_type": "code",
      "execution_count": 7,
      "outputs": [],
      "source": [
        "# specify training path for loading\n",
        "train_path = data_directory + '/train_fmnist'"
      ],
      "metadata": {
        "ExecuteTime": {
          "end_time": "2023-06-12T10:32:59.694373Z",
          "start_time": "2023-06-12T10:32:59.688336Z"
        },
        "id": "B3C3pt9fLRyT"
      }
    },
    {
      "cell_type": "code",
      "execution_count": 8,
      "outputs": [],
      "source": [
        "# define pytorch transformation into tensor format\n",
        "transform = torchvision.transforms.Compose([torchvision.transforms.ToTensor()])\n",
        "\n",
        "# download and transform training images\n",
        "fashion_mnist_train_data = torchvision.datasets.FashionMNIST(root=train_path, train=True, download=True, transform=transform)"
      ],
      "metadata": {
        "ExecuteTime": {
          "end_time": "2023-06-12T10:32:59.731705Z",
          "start_time": "2023-06-12T10:32:59.692184Z"
        },
        "id": "2OD2E-g_LRyT"
      }
    },
    {
      "cell_type": "code",
      "execution_count": 9,
      "outputs": [],
      "source": [
        "# define fashion mnist classes\n",
        "fashion_classes = {0: 'T-shirt/top',\n",
        "                    1: 'Trouser',\n",
        "                    2: 'Pullover',\n",
        "                    3: 'Dress',\n",
        "                    4: 'Coat',\n",
        "                    5: 'Sandal',\n",
        "                    6: 'Shirt',\n",
        "                    7: 'Sneaker',\n",
        "                    8: 'Bag',\n",
        "                    9: 'Ankle boot'}"
      ],
      "metadata": {
        "ExecuteTime": {
          "end_time": "2023-06-12T10:32:59.732067Z",
          "start_time": "2023-06-12T10:32:59.713106Z"
        },
        "id": "0L73MVkpLRyT"
      }
    },
    {
      "cell_type": "code",
      "execution_count": 10,
      "outputs": [
        {
          "output_type": "execute_result",
          "data": {
            "text/plain": [
              "<matplotlib.image.AxesImage at 0x7f58841ba260>"
            ]
          },
          "metadata": {},
          "execution_count": 10
        },
        {
          "output_type": "display_data",
          "data": {
            "text/plain": [
              "<Figure size 640x480 with 1 Axes>"
            ],
            "image/png": "[encoded data removed]"
          },
          "metadata": {}
        }
      ],
      "source": [
        "image_id = 12100\n",
        "fashion_mnist_train_image, fashion_mnist_train_label = fashion_mnist_train_data[image_id]\n",
        "\n",
        "# define tensor to image transformation\n",
        "trans = torchvision.transforms.ToPILImage()\n",
        "\n",
        "# set image plot title\n",
        "plt.title('Example: {}, Label: {}'.format(str(image_id), fashion_classes[fashion_mnist_train_label]))\n",
        "\n",
        "# plot mnist handwritten digit sample\n",
        "plt.imshow(trans(fashion_mnist_train_image), cmap='gray')"
      ],
      "metadata": {
        "ExecuteTime": {
          "end_time": "2023-06-12T10:32:59.847058Z",
          "start_time": "2023-06-12T10:32:59.716275Z"
        },
        "colab": {
          "base_uri": "https://localhost:8080/",
          "height": 470
        },
        "id": "dNZxLaiYLRyU",
        "outputId": "3e009d4e-3658-4a18-ad47-56a08ab28b3a"
      }
    },
    {
      "cell_type": "code",
      "execution_count": 11,
      "outputs": [
        {
          "output_type": "execute_result",
          "data": {
            "text/plain": [
              "torch.Size([1, 28, 28])"
            ]
          },
          "metadata": {},
          "execution_count": 11
        }
      ],
      "source": [
        "fashion_mnist_train_image.size()"
      ],
      "metadata": {
        "ExecuteTime": {
          "end_time": "2023-06-12T10:32:59.847675Z",
          "start_time": "2023-06-12T10:32:59.845685Z"
        },
        "colab": {
          "base_uri": "https://localhost:8080/"
        },
        "id": "7Hb1-6oBLRyU",
        "outputId": "dbacae8e-35ba-449a-8423-14f2b4705181"
      }
    },
    {
      "cell_type": "code",
      "execution_count": 12,
      "outputs": [],
      "source": [
        "eval_path = data_directory + '/eval_fmnist'\n",
        "\n",
        "# define pytorch transformation into tensor format\n",
        "transf = torchvision.transforms.Compose([torchvision.transforms.ToTensor()])\n",
        "\n",
        "# download and transform training images\n",
        "fashion_mnist_eval_data = torchvision.datasets.FashionMNIST(root=eval_path, train=False, transform=transf, download=True)"
      ],
      "metadata": {
        "ExecuteTime": {
          "end_time": "2023-06-12T10:32:59.847795Z",
          "start_time": "2023-06-12T10:32:59.847284Z"
        },
        "id": "cJ8yKiqhLRyV"
      }
    },
    {
      "cell_type": "code",
      "execution_count": null,
      "outputs": [
        {
          "data": {
            "text/plain": "10000"
          },
          "execution_count": 11,
          "metadata": {},
          "output_type": "execute_result"
        }
      ],
      "source": [
        "len(fashion_mnist_eval_data)"
      ],
      "metadata": {
        "ExecuteTime": {
          "end_time": "2023-06-12T10:32:59.851087Z",
          "start_time": "2023-06-12T10:32:59.847877Z"
        },
        "id": "W_jxj4crLRyV",
        "outputId": "84bc883d-f705-42c1-8722-563c5c3382a8"
      }
    },
    {
      "cell_type": "code",
      "execution_count": 13,
      "outputs": [],
      "source": [
        "class FashionMNISTNet(nn.Module):\n",
        "\n",
        "    # define the class constructor\n",
        "    def __init__(self):\n",
        "\n",
        "        # call super class constructor\n",
        "        super(FashionMNISTNet, self).__init__()\n",
        "\n",
        "        # specify convolution layer 1\n",
        "        self.conv1 = nn.Conv2d(in_channels=1, out_channels=3, kernel_size=5, stride=1, padding=0)\n",
        "\n",
        "        # define max-pooling layer 1\n",
        "        self.pool1 = nn.MaxPool2d(kernel_size=2, stride=2)\n",
        "\n",
        "        # specify fully-connected (fc) layer 1 - in 12*12*3, out 48\n",
        "        self.linear1 = nn.Linear(12*12*3, 48, bias=True) # the linearity W*x+b\n",
        "        self.relu1 = nn.ReLU(inplace=True) # the non-linearity\n",
        "\n",
        "        # specify fc layer 2 - in 48, out 10\n",
        "        self.linear2 = nn.Linear(48, 10, bias=True) # the linearity W*x+b\n",
        "\n",
        "        # add a softmax to the last layer\n",
        "        self.logsoftmax = nn.LogSoftmax(dim=1) # the softmax\n",
        "\n",
        "    # define network forward pass\n",
        "    def forward(self, images):\n",
        "        # high-level feature learning via convolutional layers\n",
        "\n",
        "        # define conv layer 1 forward pass\n",
        "        x = self.pool1(self.relu1(self.conv1(images)))\n",
        "\n",
        "        #print(x.shape)\n",
        "\n",
        "        # reshape image pixels\n",
        "        x = x.view(-1, 12*12*3)\n",
        "\n",
        "        # define fc layer 1 forward pass\n",
        "        x = self.relu1(self.linear1(x))\n",
        "\n",
        "        # define layer 2 forward pass\n",
        "        x = self.logsoftmax(self.linear2(x))\n",
        "\n",
        "        # return forward pass result\n",
        "        return x"
      ],
      "metadata": {
        "ExecuteTime": {
          "end_time": "2023-06-12T10:32:59.857288Z",
          "start_time": "2023-06-12T10:32:59.851927Z"
        },
        "id": "BPosxMtwLRyV"
      }
    },
    {
      "cell_type": "code",
      "execution_count": 14,
      "outputs": [],
      "source": [
        "model = FashionMNISTNet()\n",
        "model = model.to(device)"
      ],
      "metadata": {
        "ExecuteTime": {
          "end_time": "2023-06-12T10:32:59.865Z",
          "start_time": "2023-06-12T10:32:59.857925Z"
        },
        "id": "LsDPAqR-LRyW"
      }
    },
    {
      "cell_type": "code",
      "execution_count": 15,
      "outputs": [
        {
          "output_type": "stream",
          "name": "stdout",
          "text": [
            "[LOG] FashionMNISTNet architecture:\n",
            "\n",
            "FashionMNISTNet(\n",
            "  (conv1): Conv2d(1, 3, kernel_size=(5, 5), stride=(1, 1))\n",
            "  (pool1): MaxPool2d(kernel_size=2, stride=2, padding=0, dilation=1, ceil_mode=False)\n",
            "  (linear1): Linear(in_features=432, out_features=48, bias=True)\n",
            "  (relu1): ReLU(inplace=True)\n",
            "  (linear2): Linear(in_features=48, out_features=10, bias=True)\n",
            "  (logsoftmax): LogSoftmax(dim=1)\n",
            ")\n",
            "\n"
          ]
        }
      ],
      "source": [
        "# print the initialized architectures\n",
        "print('[LOG] FashionMNISTNet architecture:\\n\\n{}\\n'.format(model))"
      ],
      "metadata": {
        "ExecuteTime": {
          "end_time": "2023-06-12T10:32:59.947767Z",
          "start_time": "2023-06-12T10:32:59.865299Z"
        },
        "colab": {
          "base_uri": "https://localhost:8080/"
        },
        "id": "A36km74BLRyW",
        "outputId": "e7120307-0544-48df-c34e-e71eedfbb0fa"
      }
    },
    {
      "cell_type": "code",
      "execution_count": 16,
      "outputs": [
        {
          "output_type": "stream",
          "name": "stdout",
          "text": [
            "[LOG] Number of to be trained FashionMNISTNet model parameters: 21352.\n"
          ]
        }
      ],
      "source": [
        "# init the number of model parameters\n",
        "num_params = 0\n",
        "\n",
        "# iterate over the distinct parameters\n",
        "for param in model.parameters():\n",
        "\n",
        "    # collect number of parameters\n",
        "    num_params += param.numel()\n",
        "\n",
        "# print the number of model paramters\n",
        "print('[LOG] Number of to be trained FashionMNISTNet model parameters: {}.'.format(num_params))"
      ],
      "metadata": {
        "ExecuteTime": {
          "end_time": "2023-06-12T10:32:59.948138Z",
          "start_time": "2023-06-12T10:32:59.869157Z"
        },
        "colab": {
          "base_uri": "https://localhost:8080/"
        },
        "id": "X3ekwTspLRyW",
        "outputId": "20850ec5-afd2-4148-944c-5e343c1d4856"
      }
    },
    {
      "cell_type": "code",
      "execution_count": 17,
      "outputs": [],
      "source": [
        "# define the optimization criterion / loss function\n",
        "nll_loss = nn.NLLLoss()\n",
        "nll_loss = nll_loss.to(device)"
      ],
      "metadata": {
        "ExecuteTime": {
          "end_time": "2023-06-12T10:32:59.948229Z",
          "start_time": "2023-06-12T10:32:59.873123Z"
        },
        "id": "GBedu708LRyW"
      }
    },
    {
      "cell_type": "code",
      "execution_count": 18,
      "outputs": [],
      "source": [
        "# define learning rate and optimization strategy\n",
        "learning_rate = 0.001\n",
        "optimizer = optim.SGD(params=model.parameters(), lr=learning_rate)"
      ],
      "metadata": {
        "ExecuteTime": {
          "end_time": "2023-06-12T10:32:59.948322Z",
          "start_time": "2023-06-12T10:32:59.876376Z"
        },
        "id": "ojcuO05rLRyW"
      }
    },
    {
      "cell_type": "code",
      "execution_count": 19,
      "outputs": [],
      "source": [
        "# specify the training parameters\n",
        "num_epochs = 20 # number of training epochs\n",
        "mini_batch_size = 128 # size of the mini-batches"
      ],
      "metadata": {
        "ExecuteTime": {
          "end_time": "2023-06-12T10:32:59.948413Z",
          "start_time": "2023-06-12T10:32:59.880913Z"
        },
        "id": "a-FQ7n4CLRyW"
      }
    },
    {
      "cell_type": "code",
      "execution_count": 20,
      "outputs": [],
      "source": [
        "fashion_mnist_train_dataloader = torch.utils.data.DataLoader(fashion_mnist_train_data, batch_size=mini_batch_size, shuffle=True)"
      ],
      "metadata": {
        "ExecuteTime": {
          "end_time": "2023-06-12T10:32:59.948500Z",
          "start_time": "2023-06-12T10:32:59.884640Z"
        },
        "id": "7s-iNzluLRyW"
      }
    },
    {
      "cell_type": "code",
      "execution_count": 21,
      "outputs": [
        {
          "output_type": "stream",
          "name": "stdout",
          "text": [
            "[LOG 20230612-18:56:28] epoch: 0 train-loss: 2.2922945607191463\n",
            "[LOG 20230612-18:56:37] epoch: 1 train-loss: 2.243041109682909\n",
            "[LOG 20230612-18:56:47] epoch: 2 train-loss: 2.113294666509893\n",
            "[LOG 20230612-18:56:58] epoch: 3 train-loss: 1.812397356989033\n",
            "[LOG 20230612-18:57:08] epoch: 4 train-loss: 1.396535361753598\n",
            "[LOG 20230612-18:57:17] epoch: 5 train-loss: 1.1150145090973453\n",
            "[LOG 20230612-18:57:27] epoch: 6 train-loss: 0.9772448158467503\n",
            "[LOG 20230612-18:57:37] epoch: 7 train-loss: 0.8998790216852607\n",
            "[LOG 20230612-18:57:47] epoch: 8 train-loss: 0.8476044723728319\n",
            "[LOG 20230612-18:57:56] epoch: 9 train-loss: 0.8084990243667732\n",
            "[LOG 20230612-18:58:07] epoch: 10 train-loss: 0.7775750076338681\n",
            "[LOG 20230612-18:58:24] epoch: 11 train-loss: 0.7527333386162959\n",
            "[LOG 20230612-18:58:36] epoch: 12 train-loss: 0.7319355416399583\n",
            "[LOG 20230612-18:58:47] epoch: 13 train-loss: 0.7138824999205339\n",
            "[LOG 20230612-18:58:59] epoch: 14 train-loss: 0.698111639602352\n",
            "[LOG 20230612-18:59:11] epoch: 15 train-loss: 0.6839476976948761\n",
            "[LOG 20230612-18:59:20] epoch: 16 train-loss: 0.6714814369485322\n",
            "[LOG 20230612-18:59:30] epoch: 17 train-loss: 0.6599732055974159\n",
            "[LOG 20230612-18:59:40] epoch: 18 train-loss: 0.6493490880359211\n",
            "[LOG 20230612-18:59:50] epoch: 19 train-loss: 0.6395991511309325\n"
          ]
        }
      ],
      "source": [
        "# init collection of training epoch losses\n",
        "train_epoch_losses = []\n",
        "\n",
        "# set the model in training mode\n",
        "model.train()\n",
        "\n",
        "# train the FashionMNISTNet model\n",
        "for epoch in range(num_epochs):\n",
        "\n",
        "    # init collection of mini-batch losses\n",
        "    train_mini_batch_losses = []\n",
        "\n",
        "    # iterate over all-mini batches\n",
        "    for i, (images, labels) in enumerate(fashion_mnist_train_dataloader):\n",
        "\n",
        "          # push mini-batch data to computation device\n",
        "        images = images.to(device)\n",
        "        labels = labels.to(device)\n",
        "\n",
        "        # run forward pass through the network\n",
        "        output = model(images)\n",
        "\n",
        "        # reset graph gradients\n",
        "        model.zero_grad()\n",
        "\n",
        "        # determine classification loss\n",
        "        loss = nll_loss(output, labels)\n",
        "\n",
        "        # run backward pass\n",
        "        loss.backward()\n",
        "\n",
        "        # update network parameters\n",
        "        optimizer.step()\n",
        "\n",
        "        # collect mini-batch reconstruction loss\n",
        "        train_mini_batch_losses.append(loss.data.item())\n",
        "\n",
        "    # determine mean min-batch loss of epoch\n",
        "    train_epoch_loss = np.mean(train_mini_batch_losses)\n",
        "\n",
        "    # print epoch loss\n",
        "    now = datetime.utcnow().strftime(\"%Y%m%d-%H:%M:%S\")\n",
        "    print('[LOG {}] epoch: {} train-loss: {}'.format(str(now), str(epoch), str(train_epoch_loss)))\n",
        "\n",
        "    # set filename of actual model\n",
        "    model_name = 'FashionMNIST10_model_epoch_{}.pth'.format(str(epoch))\n",
        "\n",
        "    # save model to local directory\n",
        "    torch.save(model.state_dict(), os.path.join(models_directory, model_name))\n",
        "\n",
        "    # determine mean min-batch loss of epoch\n",
        "    train_epoch_losses.append(train_epoch_loss)"
      ],
      "metadata": {
        "is_executing": true,
        "ExecuteTime": {
          "start_time": "2023-06-12T10:32:59.893786Z"
        },
        "colab": {
          "base_uri": "https://localhost:8080/"
        },
        "id": "Pss9JJt6LRyW",
        "outputId": "23591c47-5416-4469-e5ae-e1dbff336c09"
      }
    },
    {
      "cell_type": "code",
      "source": [
        "# prepare plot\n",
        "fig = plt.figure()\n",
        "ax = fig.add_subplot(111)\n",
        "\n",
        "# add grid\n",
        "ax.grid(linestyle='dotted')\n",
        "\n",
        "# plot the training epochs vs. the epochs' classification error\n",
        "ax.plot(np.array(range(1, len(train_epoch_losses)+1)), train_epoch_losses, label='epoch loss (blue)')\n",
        "\n",
        "# add axis legends\n",
        "ax.set_xlabel(\"[training epoch $e_i$]\", fontsize=10)\n",
        "ax.set_ylabel(\"[Classification Error $\\mathcal{L}^{NLL}$]\", fontsize=10)\n",
        "\n",
        "# set plot legend\n",
        "plt.legend(loc=\"upper right\", numpoints=1, fancybox=True)\n",
        "\n",
        "# add plot title\n",
        "plt.title('Training Epochs $e_i$ vs. Classification Error $L^{NLL}$', fontsize=10);"
      ],
      "metadata": {
        "id": "nphBA0TC-P8X",
        "outputId": "e9903e55-dbb2-4ded-f9c9-303001026dfb",
        "colab": {
          "base_uri": "https://localhost:8080/",
          "height": 477
        }
      },
      "execution_count": 22,
      "outputs": [
        {
          "output_type": "display_data",
          "data": {
            "text/plain": [
              "<Figure size 640x480 with 1 Axes>"
            ],
            "image/png": "[encoded data removed]"
          },
          "metadata": {}
        }
      ]
    },
    {
      "cell_type": "code",
      "source": [
        "# init pre-trained model class\n",
        "best_model = FashionMNISTNet()\n",
        "\n",
        "# load pre-trained models\n",
        "best_model.load_state_dict(torch.load('/content/drive/MyDrive/Colab Notebooks/models_fmnist/FashionMNIST10_model_epoch_19.pth'))"
      ],
      "metadata": {
        "id": "7cUQGplv-U9_",
        "outputId": "729d079e-5352-4ac2-e68c-090655501bf5",
        "colab": {
          "base_uri": "https://localhost:8080/"
        }
      },
      "execution_count": 23,
      "outputs": [
        {
          "output_type": "execute_result",
          "data": {
            "text/plain": [
              "<All keys matched successfully>"
            ]
          },
          "metadata": {},
          "execution_count": 23
        }
      ]
    },
    {
      "cell_type": "code",
      "source": [
        "# set model in evaluation mode\n",
        "best_model.eval()\n",
        "\n",
        "fashion_mnist_eval_dataloader = torch.utils.data.DataLoader(fashion_mnist_eval_data, batch_size=10000, shuffle=False)"
      ],
      "metadata": {
        "id": "EFNv3PwY-up2"
      },
      "execution_count": 30,
      "outputs": []
    },
    {
      "cell_type": "code",
      "source": [
        "# init collection of mini-batch losses\n",
        "eval_mini_batch_losses = []\n",
        "\n",
        "# iterate over all-mini batches\n",
        "for i, (images, labels) in enumerate(fashion_mnist_eval_dataloader):\n",
        "\n",
        "    # run forward pass through the network\n",
        "    output = best_model(images)\n",
        "\n",
        "    # determine classification loss\n",
        "    loss = nll_loss(output, labels)\n",
        "\n",
        "    # collect mini-batch reconstruction loss\n",
        "    eval_mini_batch_losses.append(loss.data.item())\n",
        "\n",
        "# determine mean min-batch loss of epoch\n",
        "eval_loss = np.mean(eval_mini_batch_losses)\n",
        "\n",
        "# print epoch loss\n",
        "now = datetime.utcnow().strftime(\"%Y%m%d-%H:%M:%S\")\n",
        "print('[LOG {}] eval-loss: {}'.format(str(now), str(eval_loss)))"
      ],
      "metadata": {
        "id": "IhDV56iG-6xq",
        "outputId": "8044e13c-a41f-4f50-9472-34021e8f3f48",
        "colab": {
          "base_uri": "https://localhost:8080/"
        }
      },
      "execution_count": 31,
      "outputs": [
        {
          "output_type": "stream",
          "name": "stdout",
          "text": [
            "[LOG 20230612-19:03:31] eval-loss: 0.6580412983894348\n"
          ]
        }
      ]
    },
    {
      "cell_type": "code",
      "source": [
        "predictions = torch.argmax(best_model(next(iter(fashion_mnist_eval_dataloader))[0]), dim=1)"
      ],
      "metadata": {
        "id": "7VWpb1-y_Gfq"
      },
      "execution_count": 32,
      "outputs": []
    },
    {
      "cell_type": "code",
      "source": [
        "metrics.accuracy_score(fashion_mnist_eval_data.targets, predictions.detach())"
      ],
      "metadata": {
        "id": "vX-G4x6G_VMG",
        "outputId": "eada8746-d092-47b8-d322-a4bc2d3a7c1f",
        "colab": {
          "base_uri": "https://localhost:8080/"
        }
      },
      "execution_count": 33,
      "outputs": [
        {
          "output_type": "execute_result",
          "data": {
            "text/plain": [
              "0.766"
            ]
          },
          "metadata": {},
          "execution_count": 33
        }
      ]
    },
    {
      "cell_type": "code",
      "source": [
        "# determine classification matrix of the predicted and target classes\n",
        "mat = confusion_matrix(fashion_mnist_eval_data.targets, predictions.detach())\n",
        "\n",
        "# initialize the plot and define size\n",
        "plt.figure(figsize=(8, 8))\n",
        "\n",
        "# plot corresponding confusion matrix\n",
        "sns.heatmap(mat.T, square=True, annot=True, fmt='d', cbar=False, cmap='YlOrRd_r', xticklabels=fashion_classes, yticklabels=fashion_classes)\n",
        "plt.tick_params(axis='both', which='major', labelsize=8, labelbottom = False, bottom=False, top = False, left = False, labeltop=True)\n",
        "\n",
        "# set plot title\n",
        "plt.title('Fashion-MNIST classification matrix')\n",
        "\n",
        "# set plot axis lables\n",
        "plt.xlabel('[true label]')\n",
        "plt.ylabel('[predicted label]');"
      ],
      "metadata": {
        "id": "aqzjyya__k8r",
        "outputId": "cecb9943-aeaf-4eea-ade4-0543991d71da",
        "colab": {
          "base_uri": "https://localhost:8080/",
          "height": 714
        }
      },
      "execution_count": 38,
      "outputs": [
        {
          "output_type": "display_data",
          "data": {
            "text/plain": [
              "<Figure size 800x800 with 1 Axes>"
            ],
            "image/png": "[encoded data removed]"
          },
          "metadata": {}
        }
      ]
    }
  ],
  "metadata": {
    "kernelspec": {
      "display_name": "Python 3",
      "name": "python3"
    },
    "language_info": {
      "codemirror_mode": {
        "name": "ipython",
        "version": 2
      },
      "file_extension": ".py",
      "mimetype": "text/x-python",
      "name": "python",
      "nbconvert_exporter": "python",
      "pygments_lexer": "ipython2",
      "version": "2.7.6"
    },
    "colab": {
      "provenance": [],
      "gpuType": "T4"
    },
    "accelerator": "GPU"
  },
  "nbformat": 4,
  "nbformat_minor": 0
}