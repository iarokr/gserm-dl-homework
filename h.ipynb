{
  "cells": [
    {
      "cell_type": "code",
      "execution_count": 1,
      "metadata": {
        "collapsed": true,
        "ExecuteTime": {
          "end_time": "2023-06-12T10:32:59.656881Z",
          "start_time": "2023-06-12T10:32:58.223089Z"
        },
        "id": "qG3FIaNALRyO"
      },
      "outputs": [],
      "source": [
        "#import dependencies\n",
        "import os, urllib, io\n",
        "from datetime import datetime\n",
        "import numpy as np\n",
        "\n",
        "import pandas as pd\n",
        "import torch, torchvision\n",
        "from torch import nn, optim\n",
        "from torch.autograd import Variable\n",
        "\n",
        "import matplotlib.pyplot as plt\n",
        "import seaborn as sns\n",
        "%matplotlib inline\n",
        "\n",
        "from sklearn import metrics\n",
        "from sklearn.metrics import confusion_matrix"
      ]
    },
    {
      "cell_type": "code",
      "execution_count": 2,
      "outputs": [
        {
          "output_type": "stream",
          "name": "stdout",
          "text": [
            "Mounted at /content/drive\n"
          ]
        }
      ],
      "source": [
        "# import the Google Colab GDrive connector\n",
        "# from google.colab import drive\n",
        "\n",
        "# mount GDrive inside the Colab notebook\n",
        "# drive.mount('/content/drive')\n",
        "\n",
        "# create Colab Notebooks directory\n",
        "# notebook_directory = '/content/drive/MyDrive/Colab Notebooks'\n",
        "# if not os.path.exists(notebook_directory): os.makedirs(notebook_directory)\n",
        "\n",
        "# create data sub-directory inside the Colab Notebooks directory\n",
        "# data_directory = '/content/drive/MyDrive/Colab Notebooks/data_fmnist'\n",
        "# if not os.path.exists(data_directory): os.makedirs(data_directory)\n",
        "\n",
        "# create models sub-directory inside the Colab Notebooks directory\n",
        "# models_directory = '/content/drive/MyDrive/Colab Notebooks/models_fmnist'\n",
        "# if not os.path.exists(models_directory): os.makedirs(models_directory)"
      ],
      "metadata": {
        "ExecuteTime": {
          "end_time": "2023-06-12T10:32:59.659339Z",
          "start_time": "2023-06-12T10:32:59.657308Z"
        },
        "colab": {
          "base_uri": "https://localhost:8080/"
        },
        "id": "Kd48p1W5LRyR",
        "outputId": "dcd4df52-3ce3-4063-da4c-0b9dc4705a22"
      }
    },
    {
      "cell_type": "code",
      "source": [
        "# create the data sub-directory\n",
        "data_directory = './data_fmnist'\n",
        "if not os.path.exists(data_directory): os.makedirs(data_directory)\n",
        "\n",
        "# create the models sub-directory\n",
        "models_directory = './models_fmnist'\n",
        "if not os.path.exists(models_directory): os.makedirs(models_directory)"
      ],
      "metadata": {
        "id": "jigO1S2j1PTi"
      },
      "execution_count": null,
      "outputs": []
    },
    {
      "cell_type": "code",
      "execution_count": 3,
      "outputs": [],
      "source": [
        "# initialize the seed\n",
        "seed = 42\n",
        "np.random.seed(seed)"
      ],
      "metadata": {
        "ExecuteTime": {
          "end_time": "2023-06-12T10:32:59.662914Z",
          "start_time": "2023-06-12T10:32:59.661518Z"
        },
        "id": "3Euf3lWrLRyS"
      }
    },
    {
      "cell_type": "code",
      "execution_count": 4,
      "outputs": [
        {
          "output_type": "stream",
          "name": "stdout",
          "text": [
            "[LOG] notebook with cuda computation enabled\n"
          ]
        }
      ],
      "source": [
        "# select the device to be used for training\n",
        "device = torch.device('mps' if torch.backends.mps.is_available() else 'cuda' if torch.cuda.is_available() else 'cpu').type\n",
        "\n",
        "# init seed for every device\n",
        "torch.manual_seed(seed) # cpu\n",
        "torch.cuda.manual_seed(seed) # gpu\n",
        "torch.mps.manual_seed(seed) # mps\n",
        "\n",
        "# log type of device enabled\n",
        "print('[LOG] notebook with {} computation enabled'.format(str(device)))"
      ],
      "metadata": {
        "ExecuteTime": {
          "end_time": "2023-06-12T10:32:59.694038Z",
          "start_time": "2023-06-12T10:32:59.683551Z"
        },
        "colab": {
          "base_uri": "https://localhost:8080/"
        },
        "id": "rDZHVYQPLRyS",
        "outputId": "328ce0e2-2f0f-4b6a-dcc4-bbc6fc84c99f"
      }
    },
    {
      "cell_type": "code",
      "execution_count": 5,
      "outputs": [],
      "source": [
        "# specify training path for loading\n",
        "train_path = data_directory + '/train_fmnist'"
      ],
      "metadata": {
        "ExecuteTime": {
          "end_time": "2023-06-12T10:32:59.694373Z",
          "start_time": "2023-06-12T10:32:59.688336Z"
        },
        "id": "B3C3pt9fLRyT"
      }
    },
    {
      "cell_type": "code",
      "execution_count": 6,
      "outputs": [
        {
          "output_type": "stream",
          "name": "stdout",
          "text": [
            "Downloading http://fashion-mnist.s3-website.eu-central-1.amazonaws.com/train-images-idx3-ubyte.gz\n",
            "Downloading http://fashion-mnist.s3-website.eu-central-1.amazonaws.com/train-images-idx3-ubyte.gz to /content/drive/MyDrive/Colab Notebooks/data_fmnist/train_fmnist/FashionMNIST/raw/train-images-idx3-ubyte.gz\n"
          ]
        },
        {
          "output_type": "stream",
          "name": "stderr",
          "text": [
            "100%|██████████| 26421880/26421880 [00:01<00:00, 14987698.66it/s]\n"
          ]
        },
        {
          "output_type": "stream",
          "name": "stdout",
          "text": [
            "Extracting /content/drive/MyDrive/Colab Notebooks/data_fmnist/train_fmnist/FashionMNIST/raw/train-images-idx3-ubyte.gz to /content/drive/MyDrive/Colab Notebooks/data_fmnist/train_fmnist/FashionMNIST/raw\n",
            "\n",
            "Downloading http://fashion-mnist.s3-website.eu-central-1.amazonaws.com/train-labels-idx1-ubyte.gz\n",
            "Downloading http://fashion-mnist.s3-website.eu-central-1.amazonaws.com/train-labels-idx1-ubyte.gz to /content/drive/MyDrive/Colab Notebooks/data_fmnist/train_fmnist/FashionMNIST/raw/train-labels-idx1-ubyte.gz\n"
          ]
        },
        {
          "output_type": "stream",
          "name": "stderr",
          "text": [
            "100%|██████████| 29515/29515 [00:00<00:00, 281700.29it/s]\n"
          ]
        },
        {
          "output_type": "stream",
          "name": "stdout",
          "text": [
            "Extracting /content/drive/MyDrive/Colab Notebooks/data_fmnist/train_fmnist/FashionMNIST/raw/train-labels-idx1-ubyte.gz to /content/drive/MyDrive/Colab Notebooks/data_fmnist/train_fmnist/FashionMNIST/raw\n",
            "\n",
            "Downloading http://fashion-mnist.s3-website.eu-central-1.amazonaws.com/t10k-images-idx3-ubyte.gz\n",
            "Downloading http://fashion-mnist.s3-website.eu-central-1.amazonaws.com/t10k-images-idx3-ubyte.gz to /content/drive/MyDrive/Colab Notebooks/data_fmnist/train_fmnist/FashionMNIST/raw/t10k-images-idx3-ubyte.gz\n"
          ]
        },
        {
          "output_type": "stream",
          "name": "stderr",
          "text": [
            "100%|██████████| 4422102/4422102 [00:00<00:00, 5049968.40it/s]\n"
          ]
        },
        {
          "output_type": "stream",
          "name": "stdout",
          "text": [
            "Extracting /content/drive/MyDrive/Colab Notebooks/data_fmnist/train_fmnist/FashionMNIST/raw/t10k-images-idx3-ubyte.gz to /content/drive/MyDrive/Colab Notebooks/data_fmnist/train_fmnist/FashionMNIST/raw\n",
            "\n",
            "Downloading http://fashion-mnist.s3-website.eu-central-1.amazonaws.com/t10k-labels-idx1-ubyte.gz\n",
            "Downloading http://fashion-mnist.s3-website.eu-central-1.amazonaws.com/t10k-labels-idx1-ubyte.gz to /content/drive/MyDrive/Colab Notebooks/data_fmnist/train_fmnist/FashionMNIST/raw/t10k-labels-idx1-ubyte.gz\n"
          ]
        },
        {
          "output_type": "stream",
          "name": "stderr",
          "text": [
            "100%|██████████| 5148/5148 [00:00<00:00, 5335378.55it/s]"
          ]
        },
        {
          "output_type": "stream",
          "name": "stdout",
          "text": [
            "Extracting /content/drive/MyDrive/Colab Notebooks/data_fmnist/train_fmnist/FashionMNIST/raw/t10k-labels-idx1-ubyte.gz to /content/drive/MyDrive/Colab Notebooks/data_fmnist/train_fmnist/FashionMNIST/raw\n",
            "\n"
          ]
        },
        {
          "output_type": "stream",
          "name": "stderr",
          "text": [
            "\n"
          ]
        }
      ],
      "source": [
        "# define pytorch transformation into tensor format\n",
        "transform = torchvision.transforms.Compose([torchvision.transforms.ToTensor()])\n",
        "\n",
        "# download and transform training images\n",
        "fashion_mnist_train_data = torchvision.datasets.FashionMNIST(root=train_path, train=True, download=True, transform=transform)"
      ],
      "metadata": {
        "ExecuteTime": {
          "end_time": "2023-06-12T10:32:59.731705Z",
          "start_time": "2023-06-12T10:32:59.692184Z"
        },
        "colab": {
          "base_uri": "https://localhost:8080/"
        },
        "id": "2OD2E-g_LRyT",
        "outputId": "249047f3-6b64-40af-bb66-6993e055b601"
      }
    },
    {
      "cell_type": "code",
      "execution_count": 7,
      "outputs": [],
      "source": [
        "# define fashion mnist classes\n",
        "fashion_classes = {0: 'T-shirt/top',\n",
        "                    1: 'Trouser',\n",
        "                    2: 'Pullover',\n",
        "                    3: 'Dress',\n",
        "                    4: 'Coat',\n",
        "                    5: 'Sandal',\n",
        "                    6: 'Shirt',\n",
        "                    7: 'Sneaker',\n",
        "                    8: 'Bag',\n",
        "                    9: 'Ankle boot'}"
      ],
      "metadata": {
        "ExecuteTime": {
          "end_time": "2023-06-12T10:32:59.732067Z",
          "start_time": "2023-06-12T10:32:59.713106Z"
        },
        "id": "0L73MVkpLRyT"
      }
    },
    {
      "cell_type": "code",
      "execution_count": 8,
      "outputs": [
        {
          "output_type": "execute_result",
          "data": {
            "text/plain": [
              "<matplotlib.image.AxesImage at 0x7f1e35623940>"
            ]
          },
          "metadata": {},
          "execution_count": 8
        },
        {
          "output_type": "display_data",
          "data": {
            "text/plain": [
              "<Figure size 640x480 with 1 Axes>"
            ],
            "image/png": "[encoded data removed]"
          },
          "metadata": {}
        }
      ],
      "source": [
        "image_id = 12100\n",
        "fashion_mnist_train_image, fashion_mnist_train_label = fashion_mnist_train_data[image_id]\n",
        "\n",
        "# define tensor to image transformation\n",
        "trans = torchvision.transforms.ToPILImage()\n",
        "\n",
        "# set image plot title\n",
        "plt.title('Example: {}, Label: {}'.format(str(image_id), fashion_classes[fashion_mnist_train_label]))\n",
        "\n",
        "# plot mnist handwritten digit sample\n",
        "plt.imshow(trans(fashion_mnist_train_image), cmap='gray')"
      ],
      "metadata": {
        "ExecuteTime": {
          "end_time": "2023-06-12T10:32:59.847058Z",
          "start_time": "2023-06-12T10:32:59.716275Z"
        },
        "colab": {
          "base_uri": "https://localhost:8080/",
          "height": 470
        },
        "id": "dNZxLaiYLRyU",
        "outputId": "08f83f8a-a5a4-4e40-80b6-583b59089d78"
      }
    },
    {
      "cell_type": "code",
      "execution_count": 9,
      "outputs": [
        {
          "output_type": "execute_result",
          "data": {
            "text/plain": [
              "torch.Size([1, 28, 28])"
            ]
          },
          "metadata": {},
          "execution_count": 9
        }
      ],
      "source": [
        "fashion_mnist_train_image.size()"
      ],
      "metadata": {
        "ExecuteTime": {
          "end_time": "2023-06-12T10:32:59.847675Z",
          "start_time": "2023-06-12T10:32:59.845685Z"
        },
        "colab": {
          "base_uri": "https://localhost:8080/"
        },
        "id": "7Hb1-6oBLRyU",
        "outputId": "3b501754-3a39-4dae-9bcf-78296d91588e"
      }
    },
    {
      "cell_type": "code",
      "execution_count": 10,
      "outputs": [
        {
          "output_type": "stream",
          "name": "stdout",
          "text": [
            "Downloading http://fashion-mnist.s3-website.eu-central-1.amazonaws.com/train-images-idx3-ubyte.gz\n",
            "Downloading http://fashion-mnist.s3-website.eu-central-1.amazonaws.com/train-images-idx3-ubyte.gz to /content/drive/MyDrive/Colab Notebooks/data_fmnist/eval_fmnist/FashionMNIST/raw/train-images-idx3-ubyte.gz\n"
          ]
        },
        {
          "output_type": "stream",
          "name": "stderr",
          "text": [
            "100%|██████████| 26421880/26421880 [00:01<00:00, 14929532.47it/s]\n"
          ]
        },
        {
          "output_type": "stream",
          "name": "stdout",
          "text": [
            "Extracting /content/drive/MyDrive/Colab Notebooks/data_fmnist/eval_fmnist/FashionMNIST/raw/train-images-idx3-ubyte.gz to /content/drive/MyDrive/Colab Notebooks/data_fmnist/eval_fmnist/FashionMNIST/raw\n",
            "\n",
            "Downloading http://fashion-mnist.s3-website.eu-central-1.amazonaws.com/train-labels-idx1-ubyte.gz\n",
            "Downloading http://fashion-mnist.s3-website.eu-central-1.amazonaws.com/train-labels-idx1-ubyte.gz to /content/drive/MyDrive/Colab Notebooks/data_fmnist/eval_fmnist/FashionMNIST/raw/train-labels-idx1-ubyte.gz\n"
          ]
        },
        {
          "output_type": "stream",
          "name": "stderr",
          "text": [
            "100%|██████████| 29515/29515 [00:00<00:00, 280142.30it/s]\n"
          ]
        },
        {
          "output_type": "stream",
          "name": "stdout",
          "text": [
            "Extracting /content/drive/MyDrive/Colab Notebooks/data_fmnist/eval_fmnist/FashionMNIST/raw/train-labels-idx1-ubyte.gz to /content/drive/MyDrive/Colab Notebooks/data_fmnist/eval_fmnist/FashionMNIST/raw\n",
            "\n",
            "Downloading http://fashion-mnist.s3-website.eu-central-1.amazonaws.com/t10k-images-idx3-ubyte.gz\n",
            "Downloading http://fashion-mnist.s3-website.eu-central-1.amazonaws.com/t10k-images-idx3-ubyte.gz to /content/drive/MyDrive/Colab Notebooks/data_fmnist/eval_fmnist/FashionMNIST/raw/t10k-images-idx3-ubyte.gz\n"
          ]
        },
        {
          "output_type": "stream",
          "name": "stderr",
          "text": [
            "100%|██████████| 4422102/4422102 [00:00<00:00, 4982265.74it/s]\n"
          ]
        },
        {
          "output_type": "stream",
          "name": "stdout",
          "text": [
            "Extracting /content/drive/MyDrive/Colab Notebooks/data_fmnist/eval_fmnist/FashionMNIST/raw/t10k-images-idx3-ubyte.gz to /content/drive/MyDrive/Colab Notebooks/data_fmnist/eval_fmnist/FashionMNIST/raw\n",
            "\n",
            "Downloading http://fashion-mnist.s3-website.eu-central-1.amazonaws.com/t10k-labels-idx1-ubyte.gz\n",
            "Downloading http://fashion-mnist.s3-website.eu-central-1.amazonaws.com/t10k-labels-idx1-ubyte.gz to /content/drive/MyDrive/Colab Notebooks/data_fmnist/eval_fmnist/FashionMNIST/raw/t10k-labels-idx1-ubyte.gz\n"
          ]
        },
        {
          "output_type": "stream",
          "name": "stderr",
          "text": [
            "100%|██████████| 5148/5148 [00:00<00:00, 5793473.84it/s]"
          ]
        },
        {
          "output_type": "stream",
          "name": "stdout",
          "text": [
            "Extracting /content/drive/MyDrive/Colab Notebooks/data_fmnist/eval_fmnist/FashionMNIST/raw/t10k-labels-idx1-ubyte.gz to /content/drive/MyDrive/Colab Notebooks/data_fmnist/eval_fmnist/FashionMNIST/raw\n",
            "\n"
          ]
        },
        {
          "output_type": "stream",
          "name": "stderr",
          "text": [
            "\n"
          ]
        }
      ],
      "source": [
        "eval_path = data_directory + '/eval_fmnist'\n",
        "\n",
        "# define pytorch transformation into tensor format\n",
        "transf = torchvision.transforms.Compose([torchvision.transforms.ToTensor()])\n",
        "\n",
        "# download and transform training images\n",
        "fashion_mnist_eval_data = torchvision.datasets.FashionMNIST(root=eval_path, train=False, transform=transf, download=True)"
      ],
      "metadata": {
        "ExecuteTime": {
          "end_time": "2023-06-12T10:32:59.847795Z",
          "start_time": "2023-06-12T10:32:59.847284Z"
        },
        "colab": {
          "base_uri": "https://localhost:8080/"
        },
        "id": "cJ8yKiqhLRyV",
        "outputId": "364d7acc-b90f-4d8f-c770-01dd2a7e36cc"
      }
    },
    {
      "cell_type": "code",
      "execution_count": null,
      "outputs": [
        {
          "data": {
            "text/plain": "10000"
          },
          "execution_count": 11,
          "metadata": {},
          "output_type": "execute_result"
        }
      ],
      "source": [
        "len(fashion_mnist_eval_data)"
      ],
      "metadata": {
        "ExecuteTime": {
          "end_time": "2023-06-12T10:32:59.851087Z",
          "start_time": "2023-06-12T10:32:59.847877Z"
        },
        "id": "W_jxj4crLRyV",
        "outputId": "84bc883d-f705-42c1-8722-563c5c3382a8"
      }
    },
    {
      "cell_type": "code",
      "execution_count": 51,
      "outputs": [],
      "source": [
        "class FashionMNISTNet(nn.Module):\n",
        "\n",
        "    # define the class constructor\n",
        "    def __init__(self):\n",
        "\n",
        "        # call super class constructor\n",
        "        super(FashionMNISTNet, self).__init__()\n",
        "\n",
        "        # specify convolution layer 1\n",
        "        self.conv1 = nn.Conv2d(in_channels=1, out_channels=3, kernel_size=5, stride=1, padding=0)\n",
        "\n",
        "        # define max-pooling layer 1\n",
        "        self.pool1 = nn.MaxPool2d(kernel_size=2, stride=2)\n",
        "\n",
        "        # specify fully-connected (fc) layer 1 - in 12*12*3, out 48\n",
        "        self.linear1 = nn.Linear(12*12*3, 48, bias=True) # the linearity W*x+b\n",
        "        self.relu1 = nn.ReLU(inplace=True) # the non-linearity\n",
        "\n",
        "        # specify fc layer 2 - in 48, out 10\n",
        "        self.linear2 = nn.Linear(48, 10, bias=True) # the linearity W*x+b\n",
        "\n",
        "        # add a softmax to the last layer\n",
        "        self.logsoftmax = nn.LogSoftmax(dim=1) # the softmax\n",
        "\n",
        "    # define network forward pass\n",
        "    def forward(self, images):\n",
        "        # high-level feature learning via convolutional layers\n",
        "\n",
        "        # define conv layer 1 forward pass\n",
        "        x = self.pool1(self.relu1(self.conv1(images)))\n",
        "\n",
        "        #print(x.shape)\n",
        "\n",
        "        # reshape image pixels\n",
        "        x = x.view(-1, 12*12*3)\n",
        "\n",
        "        # define fc layer 1 forward pass\n",
        "        x = self.relu1(self.linear1(x))\n",
        "\n",
        "        # define layer 2 forward pass\n",
        "        x = self.logsoftmax(self.linear2(x))\n",
        "\n",
        "        # return forward pass result\n",
        "        return x"
      ],
      "metadata": {
        "ExecuteTime": {
          "end_time": "2023-06-12T10:32:59.857288Z",
          "start_time": "2023-06-12T10:32:59.851927Z"
        },
        "id": "BPosxMtwLRyV"
      }
    },
    {
      "cell_type": "code",
      "execution_count": 52,
      "outputs": [],
      "source": [
        "model = FashionMNISTNet()\n",
        "model = model.to(device)"
      ],
      "metadata": {
        "ExecuteTime": {
          "end_time": "2023-06-12T10:32:59.865Z",
          "start_time": "2023-06-12T10:32:59.857925Z"
        },
        "id": "LsDPAqR-LRyW"
      }
    },
    {
      "cell_type": "code",
      "execution_count": 53,
      "outputs": [
        {
          "output_type": "stream",
          "name": "stdout",
          "text": [
            "[LOG] FashionMNISTNet architecture:\n",
            "\n",
            "FashionMNISTNet(\n",
            "  (conv1): Conv2d(1, 3, kernel_size=(5, 5), stride=(1, 1))\n",
            "  (pool1): MaxPool2d(kernel_size=2, stride=2, padding=0, dilation=1, ceil_mode=False)\n",
            "  (linear1): Linear(in_features=432, out_features=48, bias=True)\n",
            "  (relu1): ReLU(inplace=True)\n",
            "  (linear2): Linear(in_features=48, out_features=10, bias=True)\n",
            "  (logsoftmax): LogSoftmax(dim=1)\n",
            ")\n",
            "\n"
          ]
        }
      ],
      "source": [
        "# print the initialized architectures\n",
        "print('[LOG] FashionMNISTNet architecture:\\n\\n{}\\n'.format(model))"
      ],
      "metadata": {
        "ExecuteTime": {
          "end_time": "2023-06-12T10:32:59.947767Z",
          "start_time": "2023-06-12T10:32:59.865299Z"
        },
        "colab": {
          "base_uri": "https://localhost:8080/"
        },
        "id": "A36km74BLRyW",
        "outputId": "87a6b1df-a665-4d19-b30e-9e9855a1cb6f"
      }
    },
    {
      "cell_type": "code",
      "execution_count": 54,
      "outputs": [
        {
          "output_type": "stream",
          "name": "stdout",
          "text": [
            "[LOG] Number of to be trained FashionMNISTNet model parameters: 21352.\n"
          ]
        }
      ],
      "source": [
        "# init the number of model parameters\n",
        "num_params = 0\n",
        "\n",
        "# iterate over the distinct parameters\n",
        "for param in model.parameters():\n",
        "\n",
        "    # collect number of parameters\n",
        "    num_params += param.numel()\n",
        "\n",
        "# print the number of model paramters\n",
        "print('[LOG] Number of to be trained FashionMNISTNet model parameters: {}.'.format(num_params))"
      ],
      "metadata": {
        "ExecuteTime": {
          "end_time": "2023-06-12T10:32:59.948138Z",
          "start_time": "2023-06-12T10:32:59.869157Z"
        },
        "colab": {
          "base_uri": "https://localhost:8080/"
        },
        "id": "X3ekwTspLRyW",
        "outputId": "6a89ad4f-68ff-4d66-c507-d12522eb658b"
      }
    },
    {
      "cell_type": "code",
      "execution_count": 55,
      "outputs": [],
      "source": [
        "# define the optimization criterion / loss function\n",
        "nll_loss = nn.NLLLoss()\n",
        "nll_loss = nll_loss.to(device)"
      ],
      "metadata": {
        "ExecuteTime": {
          "end_time": "2023-06-12T10:32:59.948229Z",
          "start_time": "2023-06-12T10:32:59.873123Z"
        },
        "id": "GBedu708LRyW"
      }
    },
    {
      "cell_type": "code",
      "execution_count": 56,
      "outputs": [],
      "source": [
        "# define learning rate and optimization strategy\n",
        "learning_rate = 0.001\n",
        "optimizer = optim.SGD(params=model.parameters(), lr=learning_rate)"
      ],
      "metadata": {
        "ExecuteTime": {
          "end_time": "2023-06-12T10:32:59.948322Z",
          "start_time": "2023-06-12T10:32:59.876376Z"
        },
        "id": "ojcuO05rLRyW"
      }
    },
    {
      "cell_type": "code",
      "execution_count": 57,
      "outputs": [],
      "source": [
        "# specify the training parameters\n",
        "num_epochs = 20 # number of training epochs\n",
        "mini_batch_size = 128 # size of the mini-batches"
      ],
      "metadata": {
        "ExecuteTime": {
          "end_time": "2023-06-12T10:32:59.948413Z",
          "start_time": "2023-06-12T10:32:59.880913Z"
        },
        "id": "a-FQ7n4CLRyW"
      }
    },
    {
      "cell_type": "code",
      "execution_count": 58,
      "outputs": [],
      "source": [
        "fashion_mnist_train_dataloader = torch.utils.data.DataLoader(fashion_mnist_train_data, batch_size=mini_batch_size, shuffle=True)"
      ],
      "metadata": {
        "ExecuteTime": {
          "end_time": "2023-06-12T10:32:59.948500Z",
          "start_time": "2023-06-12T10:32:59.884640Z"
        },
        "id": "7s-iNzluLRyW"
      }
    },
    {
      "cell_type": "code",
      "execution_count": 59,
      "outputs": [
        {
          "output_type": "stream",
          "name": "stdout",
          "text": [
            "[LOG 20230612-10:48:06] epoch: 0 train-loss: 2.2526480139954\n",
            "[LOG 20230612-10:48:15] epoch: 1 train-loss: 2.099825221338252\n",
            "[LOG 20230612-10:48:24] epoch: 2 train-loss: 1.7643840046071295\n",
            "[LOG 20230612-10:48:34] epoch: 3 train-loss: 1.3442011250615882\n",
            "[LOG 20230612-10:48:43] epoch: 4 train-loss: 1.0936572580957717\n",
            "[LOG 20230612-10:48:52] epoch: 5 train-loss: 0.9689054789065298\n",
            "[LOG 20230612-10:49:01] epoch: 6 train-loss: 0.8954697060686693\n",
            "[LOG 20230612-10:49:10] epoch: 7 train-loss: 0.8458735344252353\n",
            "[LOG 20230612-10:49:19] epoch: 8 train-loss: 0.8092295157629797\n",
            "[LOG 20230612-10:49:27] epoch: 9 train-loss: 0.7805245467848869\n",
            "[LOG 20230612-10:49:36] epoch: 10 train-loss: 0.7563936643000605\n",
            "[LOG 20230612-10:49:45] epoch: 11 train-loss: 0.736265285437041\n",
            "[LOG 20230612-10:49:54] epoch: 12 train-loss: 0.7186596506694233\n",
            "[LOG 20230612-10:50:04] epoch: 13 train-loss: 0.7027509830780884\n",
            "[LOG 20230612-10:50:12] epoch: 14 train-loss: 0.6884405700636825\n",
            "[LOG 20230612-10:50:21] epoch: 15 train-loss: 0.6756366473525318\n",
            "[LOG 20230612-10:50:30] epoch: 16 train-loss: 0.6641641831092997\n",
            "[LOG 20230612-10:50:39] epoch: 17 train-loss: 0.653138052870724\n",
            "[LOG 20230612-10:50:48] epoch: 18 train-loss: 0.6434356757699807\n",
            "[LOG 20230612-10:50:57] epoch: 19 train-loss: 0.6338639164021783\n"
          ]
        }
      ],
      "source": [
        "# init collection of training epoch losses\n",
        "train_epoch_losses = []\n",
        "\n",
        "# set the model in training mode\n",
        "model.train()\n",
        "\n",
        "# train the FashionMNISTNet model\n",
        "for epoch in range(num_epochs):\n",
        "\n",
        "    # init collection of mini-batch losses\n",
        "    train_mini_batch_losses = []\n",
        "\n",
        "    # iterate over all-mini batches\n",
        "    for i, (images, labels) in enumerate(fashion_mnist_train_dataloader):\n",
        "\n",
        "          # push mini-batch data to computation device\n",
        "        images = images.to(device)\n",
        "        labels = labels.to(device)\n",
        "\n",
        "        # run forward pass through the network\n",
        "        output = model(images)\n",
        "\n",
        "        # reset graph gradients\n",
        "        model.zero_grad()\n",
        "\n",
        "        # determine classification loss\n",
        "        loss = nll_loss(output, labels)\n",
        "\n",
        "        # run backward pass\n",
        "        loss.backward()\n",
        "\n",
        "        # update network parameters\n",
        "        optimizer.step()\n",
        "\n",
        "        # collect mini-batch reconstruction loss\n",
        "        train_mini_batch_losses.append(loss.data.item())\n",
        "\n",
        "    # determine mean min-batch loss of epoch\n",
        "    train_epoch_loss = np.mean(train_mini_batch_losses)\n",
        "\n",
        "    # print epoch loss\n",
        "    now = datetime.utcnow().strftime(\"%Y%m%d-%H:%M:%S\")\n",
        "    print('[LOG {}] epoch: {} train-loss: {}'.format(str(now), str(epoch), str(train_epoch_loss)))\n",
        "\n",
        "    # set filename of actual model\n",
        "    model_name = 'FashionMNIST10_model_epoch_{}.pth'.format(str(epoch))\n",
        "\n",
        "    # save model to local directory\n",
        "    torch.save(model.state_dict(), os.path.join(models_directory, model_name))\n",
        "\n",
        "    # determine mean min-batch loss of epoch\n",
        "    train_epoch_losses.append(train_epoch_loss)"
      ],
      "metadata": {
        "is_executing": true,
        "ExecuteTime": {
          "start_time": "2023-06-12T10:32:59.893786Z"
        },
        "colab": {
          "base_uri": "https://localhost:8080/"
        },
        "id": "Pss9JJt6LRyW",
        "outputId": "f9fa014e-4f03-4353-bbe7-dc1ce5a7aa82"
      }
    }
  ],
  "metadata": {
    "kernelspec": {
      "display_name": "Python 3",
      "name": "python3"
    },
    "language_info": {
      "codemirror_mode": {
        "name": "ipython",
        "version": 2
      },
      "file_extension": ".py",
      "mimetype": "text/x-python",
      "name": "python",
      "nbconvert_exporter": "python",
      "pygments_lexer": "ipython2",
      "version": "2.7.6"
    },
    "colab": {
      "provenance": [],
      "toc_visible": true,
      "gpuType": "T4"
    },
    "accelerator": "GPU"
  },
  "nbformat": 4,
  "nbformat_minor": 0
}