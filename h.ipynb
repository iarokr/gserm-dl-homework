{
 "cells": [
  {
   "cell_type": "code",
   "execution_count": 1,
   "metadata": {
    "collapsed": true,
    "id": "qG3FIaNALRyO",
    "ExecuteTime": {
     "end_time": "2023-06-20T07:42:15.377868Z",
     "start_time": "2023-06-20T07:42:13.973285Z"
    }
   },
   "outputs": [],
   "source": [
    "#import dependencies\n",
    "import os, urllib, io\n",
    "from datetime import datetime\n",
    "import numpy as np\n",
    "\n",
    "import pandas as pd\n",
    "import torch, torchvision\n",
    "from torch import nn, optim\n",
    "from torch.autograd import Variable\n",
    "\n",
    "import matplotlib.pyplot as plt\n",
    "import seaborn as sns\n",
    "%matplotlib inline\n",
    "\n",
    "from sklearn import metrics\n",
    "from sklearn.metrics import confusion_matrix"
   ]
  },
  {
   "cell_type": "code",
   "execution_count": null,
   "outputs": [],
   "source": [
    "# import the Google Colab GDrive connector\n",
    "# from google.colab import drive\n",
    "\n",
    "# mount GDrive inside the Colab notebook\n",
    "# drive.mount('/content/drive')\n",
    "\n",
    "# create Colab Notebooks directory\n",
    "# notebook_directory = '/content/drive/MyDrive/Colab Notebooks'\n",
    "# if not os.path.exists(notebook_directory): os.makedirs(notebook_directory)\n",
    "\n",
    "# create data sub-directory inside the Colab Notebooks directory\n",
    "# data_directory = '/content/drive/MyDrive/Colab Notebooks/data_fmnist'\n",
    "# if not os.path.exists(data_directory): os.makedirs(data_directory)\n",
    "\n",
    "# create models sub-directory inside the Colab Notebooks directory\n",
    "# models_directory = '/content/drive/MyDrive/Colab Notebooks/models_fmnist'\n",
    "# if not os.path.exists(models_directory): os.makedirs(models_directory)"
   ],
   "metadata": {
    "colab": {
     "base_uri": "https://localhost:8080/"
    },
    "id": "Kd48p1W5LRyR",
    "outputId": "f140d2e8-f737-4e27-fa1d-7513226df255"
   }
  },
  {
   "cell_type": "code",
   "source": [
    "# create the data sub-directory\n",
    "data_directory = './data_fmnist'\n",
    "if not os.path.exists(data_directory): os.makedirs(data_directory)\n",
    "\n",
    "# create the models sub-directory\n",
    "models_directory = './models_fmnist'\n",
    "if not os.path.exists(models_directory): os.makedirs(models_directory)"
   ],
   "metadata": {
    "id": "jigO1S2j1PTi",
    "ExecuteTime": {
     "end_time": "2023-06-20T07:42:25.238729Z",
     "start_time": "2023-06-20T07:42:25.235782Z"
    }
   },
   "execution_count": 2,
   "outputs": []
  },
  {
   "cell_type": "code",
   "execution_count": 3,
   "outputs": [],
   "source": [
    "# initialize the seed\n",
    "seed = 42\n",
    "np.random.seed(seed)"
   ],
   "metadata": {
    "id": "3Euf3lWrLRyS",
    "ExecuteTime": {
     "end_time": "2023-06-20T07:42:29.092325Z",
     "start_time": "2023-06-20T07:42:29.086702Z"
    }
   }
  },
  {
   "cell_type": "code",
   "execution_count": 4,
   "outputs": [
    {
     "name": "stdout",
     "output_type": "stream",
     "text": [
      "[LOG] notebook with mps computation enabled\n"
     ]
    }
   ],
   "source": [
    "# select the device to be used for training\n",
    "device = torch.device('mps' if torch.backends.mps.is_available() else 'cuda' if torch.cuda.is_available() else 'cpu').type\n",
    "\n",
    "# init seed for every device\n",
    "torch.manual_seed(seed) # cpu\n",
    "torch.cuda.manual_seed(seed) # gpu\n",
    "torch.mps.manual_seed(seed) # mps\n",
    "\n",
    "# log type of device enabled\n",
    "print('[LOG] notebook with {} computation enabled'.format(str(device)))"
   ],
   "metadata": {
    "colab": {
     "base_uri": "https://localhost:8080/"
    },
    "id": "rDZHVYQPLRyS",
    "outputId": "31836e7f-8def-45dc-9454-8c3332011906",
    "ExecuteTime": {
     "end_time": "2023-06-20T07:42:30.895234Z",
     "start_time": "2023-06-20T07:42:30.883085Z"
    }
   }
  },
  {
   "cell_type": "code",
   "execution_count": 5,
   "outputs": [],
   "source": [
    "# specify training path for loading\n",
    "train_path = data_directory + '/train_fmnist'"
   ],
   "metadata": {
    "id": "B3C3pt9fLRyT",
    "ExecuteTime": {
     "end_time": "2023-06-20T07:42:32.749821Z",
     "start_time": "2023-06-20T07:42:32.745136Z"
    }
   }
  },
  {
   "cell_type": "code",
   "execution_count": 6,
   "outputs": [],
   "source": [
    "# define pytorch transformation into tensor format\n",
    "transform = torchvision.transforms.Compose([torchvision.transforms.ToTensor()])\n",
    "\n",
    "# download and transform training images\n",
    "fashion_mnist_train_data = torchvision.datasets.FashionMNIST(root=train_path, train=True, download=True, transform=transform)"
   ],
   "metadata": {
    "id": "2OD2E-g_LRyT",
    "ExecuteTime": {
     "end_time": "2023-06-20T07:42:34.606950Z",
     "start_time": "2023-06-20T07:42:34.581719Z"
    }
   }
  },
  {
   "cell_type": "code",
   "execution_count": 7,
   "outputs": [],
   "source": [
    "# define fashion mnist classes\n",
    "fashion_classes = {0: 'T-shirt/top',\n",
    "                    1: 'Trouser',\n",
    "                    2: 'Pullover',\n",
    "                    3: 'Dress',\n",
    "                    4: 'Coat',\n",
    "                    5: 'Sandal',\n",
    "                    6: 'Shirt',\n",
    "                    7: 'Sneaker',\n",
    "                    8: 'Bag',\n",
    "                    9: 'Ankle boot'}"
   ],
   "metadata": {
    "id": "0L73MVkpLRyT",
    "ExecuteTime": {
     "end_time": "2023-06-20T07:42:36.276202Z",
     "start_time": "2023-06-20T07:42:36.269952Z"
    }
   }
  },
  {
   "cell_type": "code",
   "execution_count": 8,
   "outputs": [
    {
     "data": {
      "text/plain": "<matplotlib.image.AxesImage at 0x2893a9400>"
     },
     "execution_count": 8,
     "metadata": {},
     "output_type": "execute_result"
    },
    {
     "data": {
      "text/plain": "<Figure size 640x480 with 1 Axes>",
      "image/png": "[encoded data removed]"
     },
     "metadata": {},
     "output_type": "display_data"
    }
   ],
   "source": [
    "image_id = 12100\n",
    "fashion_mnist_train_image, fashion_mnist_train_label = fashion_mnist_train_data[image_id]\n",
    "\n",
    "# define tensor to image transformation\n",
    "trans = torchvision.transforms.ToPILImage()\n",
    "\n",
    "# set image plot title\n",
    "plt.title('Example: {}, Label: {}'.format(str(image_id), fashion_classes[fashion_mnist_train_label]))\n",
    "\n",
    "# plot mnist handwritten digit sample\n",
    "plt.imshow(trans(fashion_mnist_train_image), cmap='gray')"
   ],
   "metadata": {
    "colab": {
     "base_uri": "https://localhost:8080/",
     "height": 470
    },
    "id": "dNZxLaiYLRyU",
    "outputId": "3e009d4e-3658-4a18-ad47-56a08ab28b3a",
    "ExecuteTime": {
     "end_time": "2023-06-20T07:42:38.191704Z",
     "start_time": "2023-06-20T07:42:38.002821Z"
    }
   }
  },
  {
   "cell_type": "code",
   "execution_count": 9,
   "outputs": [
    {
     "data": {
      "text/plain": "torch.Size([1, 28, 28])"
     },
     "execution_count": 9,
     "metadata": {},
     "output_type": "execute_result"
    }
   ],
   "source": [
    "fashion_mnist_train_image.size()"
   ],
   "metadata": {
    "colab": {
     "base_uri": "https://localhost:8080/"
    },
    "id": "7Hb1-6oBLRyU",
    "outputId": "dbacae8e-35ba-449a-8423-14f2b4705181",
    "ExecuteTime": {
     "end_time": "2023-06-20T07:42:40.950377Z",
     "start_time": "2023-06-20T07:42:40.945012Z"
    }
   }
  },
  {
   "cell_type": "code",
   "execution_count": 10,
   "outputs": [],
   "source": [
    "eval_path = data_directory + '/eval_fmnist'\n",
    "\n",
    "# define pytorch transformation into tensor format\n",
    "transf = torchvision.transforms.Compose([torchvision.transforms.ToTensor()])\n",
    "\n",
    "# download and transform training images\n",
    "fashion_mnist_eval_data = torchvision.datasets.FashionMNIST(root=eval_path, train=False, transform=transf, download=True)"
   ],
   "metadata": {
    "id": "cJ8yKiqhLRyV",
    "ExecuteTime": {
     "end_time": "2023-06-20T07:42:42.008303Z",
     "start_time": "2023-06-20T07:42:41.987968Z"
    }
   }
  },
  {
   "cell_type": "code",
   "execution_count": 11,
   "outputs": [
    {
     "data": {
      "text/plain": "10000"
     },
     "execution_count": 11,
     "metadata": {},
     "output_type": "execute_result"
    }
   ],
   "source": [
    "len(fashion_mnist_eval_data)"
   ],
   "metadata": {
    "id": "W_jxj4crLRyV",
    "outputId": "84bc883d-f705-42c1-8722-563c5c3382a8",
    "ExecuteTime": {
     "end_time": "2023-06-20T07:42:44.252252Z",
     "start_time": "2023-06-20T07:42:44.246687Z"
    }
   }
  },
  {
   "cell_type": "code",
   "execution_count": 12,
   "outputs": [],
   "source": [
    "class FashionMNISTNet(nn.Module):\n",
    "\n",
    "    # define the class constructor\n",
    "    def __init__(self):\n",
    "\n",
    "        # call super class constructor\n",
    "        super(FashionMNISTNet, self).__init__()\n",
    "\n",
    "        # specify convolution layer 1\n",
    "        self.conv1 = nn.Conv2d(in_channels=1, out_channels=3, kernel_size=5, stride=1, padding=0)\n",
    "\n",
    "        # define max-pooling layer 1\n",
    "        self.pool1 = nn.MaxPool2d(kernel_size=2, stride=2)\n",
    "\n",
    "        # specify fully-connected (fc) layer 1 - in 12*12*3, out 48\n",
    "        self.linear1 = nn.Linear(12*12*3, 48, bias=True) # the linearity W*x+b\n",
    "        self.relu1 = nn.ReLU(inplace=True) # the non-linearity\n",
    "\n",
    "        # specify fc layer 2 - in 48, out 10\n",
    "        self.linear2 = nn.Linear(48, 10, bias=True) # the linearity W*x+b\n",
    "\n",
    "        # add a softmax to the last layer\n",
    "        self.logsoftmax = nn.LogSoftmax(dim=1) # the softmax\n",
    "\n",
    "    # define network forward pass\n",
    "    def forward(self, images):\n",
    "        # high-level feature learning via convolutional layers\n",
    "\n",
    "        # define conv layer 1 forward pass\n",
    "        x = self.pool1(self.relu1(self.conv1(images)))\n",
    "\n",
    "        #print(x.shape)\n",
    "\n",
    "        # reshape image pixels\n",
    "        x = x.view(-1, 12*12*3)\n",
    "\n",
    "        # define fc layer 1 forward pass\n",
    "        x = self.relu1(self.linear1(x))\n",
    "\n",
    "        # define layer 2 forward pass\n",
    "        x = self.logsoftmax(self.linear2(x))\n",
    "\n",
    "        # return forward pass result\n",
    "        return x"
   ],
   "metadata": {
    "id": "BPosxMtwLRyV",
    "ExecuteTime": {
     "end_time": "2023-06-20T07:42:45.341280Z",
     "start_time": "2023-06-20T07:42:45.339573Z"
    }
   }
  },
  {
   "cell_type": "code",
   "execution_count": 13,
   "outputs": [],
   "source": [
    "model = FashionMNISTNet()\n",
    "model = model.to(device)"
   ],
   "metadata": {
    "id": "LsDPAqR-LRyW",
    "ExecuteTime": {
     "end_time": "2023-06-20T07:42:48.164728Z",
     "start_time": "2023-06-20T07:42:48.132012Z"
    }
   }
  },
  {
   "cell_type": "code",
   "execution_count": 14,
   "outputs": [
    {
     "name": "stdout",
     "output_type": "stream",
     "text": [
      "[LOG] FashionMNISTNet architecture:\n",
      "\n",
      "FashionMNISTNet(\n",
      "  (conv1): Conv2d(1, 3, kernel_size=(5, 5), stride=(1, 1))\n",
      "  (pool1): MaxPool2d(kernel_size=2, stride=2, padding=0, dilation=1, ceil_mode=False)\n",
      "  (linear1): Linear(in_features=432, out_features=48, bias=True)\n",
      "  (relu1): ReLU(inplace=True)\n",
      "  (linear2): Linear(in_features=48, out_features=10, bias=True)\n",
      "  (logsoftmax): LogSoftmax(dim=1)\n",
      ")\n",
      "\n"
     ]
    }
   ],
   "source": [
    "# print the initialized architectures\n",
    "print('[LOG] FashionMNISTNet architecture:\\n\\n{}\\n'.format(model))"
   ],
   "metadata": {
    "colab": {
     "base_uri": "https://localhost:8080/"
    },
    "id": "A36km74BLRyW",
    "outputId": "e7120307-0544-48df-c34e-e71eedfbb0fa",
    "ExecuteTime": {
     "end_time": "2023-06-20T07:42:49.551251Z",
     "start_time": "2023-06-20T07:42:49.531826Z"
    }
   }
  },
  {
   "cell_type": "code",
   "execution_count": 15,
   "outputs": [
    {
     "name": "stdout",
     "output_type": "stream",
     "text": [
      "[LOG] Number of to be trained FashionMNISTNet model parameters: 21352.\n"
     ]
    }
   ],
   "source": [
    "# init the number of model parameters\n",
    "num_params = 0\n",
    "\n",
    "# iterate over the distinct parameters\n",
    "for param in model.parameters():\n",
    "\n",
    "    # collect number of parameters\n",
    "    num_params += param.numel()\n",
    "\n",
    "# print the number of model paramters\n",
    "print('[LOG] Number of to be trained FashionMNISTNet model parameters: {}.'.format(num_params))"
   ],
   "metadata": {
    "colab": {
     "base_uri": "https://localhost:8080/"
    },
    "id": "X3ekwTspLRyW",
    "outputId": "20850ec5-afd2-4148-944c-5e343c1d4856",
    "ExecuteTime": {
     "end_time": "2023-06-20T07:42:51.565558Z",
     "start_time": "2023-06-20T07:42:51.561425Z"
    }
   }
  },
  {
   "cell_type": "code",
   "execution_count": 16,
   "outputs": [],
   "source": [
    "# define the optimization criterion / loss function\n",
    "nll_loss = nn.NLLLoss()\n",
    "nll_loss = nll_loss.to(device)"
   ],
   "metadata": {
    "id": "GBedu708LRyW",
    "ExecuteTime": {
     "end_time": "2023-06-20T07:42:53.370419Z",
     "start_time": "2023-06-20T07:42:53.365597Z"
    }
   }
  },
  {
   "cell_type": "code",
   "execution_count": 17,
   "outputs": [],
   "source": [
    "# define learning rate and optimization strategy\n",
    "learning_rate = 0.001\n",
    "optimizer = optim.SGD(params=model.parameters(), lr=learning_rate)"
   ],
   "metadata": {
    "id": "ojcuO05rLRyW",
    "ExecuteTime": {
     "end_time": "2023-06-20T07:42:55.005412Z",
     "start_time": "2023-06-20T07:42:54.998688Z"
    }
   }
  },
  {
   "cell_type": "code",
   "execution_count": 21,
   "outputs": [],
   "source": [
    "# specify the training parameters\n",
    "num_epochs = 50 # number of training epochs\n",
    "mini_batch_size = 128 # size of the mini-batches"
   ],
   "metadata": {
    "id": "a-FQ7n4CLRyW",
    "ExecuteTime": {
     "end_time": "2023-06-20T07:44:32.596064Z",
     "start_time": "2023-06-20T07:44:32.591612Z"
    }
   }
  },
  {
   "cell_type": "code",
   "execution_count": 22,
   "outputs": [],
   "source": [
    "fashion_mnist_train_dataloader = torch.utils.data.DataLoader(fashion_mnist_train_data, batch_size=mini_batch_size, shuffle=True)"
   ],
   "metadata": {
    "id": "7s-iNzluLRyW",
    "ExecuteTime": {
     "end_time": "2023-06-20T07:44:35.111700Z",
     "start_time": "2023-06-20T07:44:35.107568Z"
    }
   }
  },
  {
   "cell_type": "code",
   "execution_count": 23,
   "outputs": [
    {
     "name": "stdout",
     "output_type": "stream",
     "text": [
      "[LOG 20230620-07:44:40] epoch: 0 train-loss: 0.631019562673467\n",
      "[LOG 20230620-07:44:44] epoch: 1 train-loss: 0.62312450846121\n",
      "[LOG 20230620-07:44:48] epoch: 2 train-loss: 0.6159216766672602\n",
      "[LOG 20230620-07:44:52] epoch: 3 train-loss: 0.6095250009346619\n",
      "[LOG 20230620-07:44:56] epoch: 4 train-loss: 0.6032280135891839\n",
      "[LOG 20230620-07:45:00] epoch: 5 train-loss: 0.5977835704141589\n",
      "[LOG 20230620-07:45:03] epoch: 6 train-loss: 0.5925603468280866\n",
      "[LOG 20230620-07:45:07] epoch: 7 train-loss: 0.587617256811687\n",
      "[LOG 20230620-07:45:11] epoch: 8 train-loss: 0.5830480480499105\n",
      "[LOG 20230620-07:45:15] epoch: 9 train-loss: 0.5785766491122337\n",
      "[LOG 20230620-07:45:18] epoch: 10 train-loss: 0.5745199040563376\n",
      "[LOG 20230620-07:45:22] epoch: 11 train-loss: 0.5707317356234675\n",
      "[LOG 20230620-07:45:26] epoch: 12 train-loss: 0.5672450326144822\n",
      "[LOG 20230620-07:45:30] epoch: 13 train-loss: 0.5630900953878472\n",
      "[LOG 20230620-07:45:33] epoch: 14 train-loss: 0.5601732770898449\n",
      "[LOG 20230620-07:45:37] epoch: 15 train-loss: 0.5568273556130782\n",
      "[LOG 20230620-07:45:41] epoch: 16 train-loss: 0.5536376441846779\n",
      "[LOG 20230620-07:45:44] epoch: 17 train-loss: 0.5502204864518221\n",
      "[LOG 20230620-07:45:48] epoch: 18 train-loss: 0.547517436907998\n",
      "[LOG 20230620-07:45:52] epoch: 19 train-loss: 0.5443366698618891\n",
      "[LOG 20230620-07:45:56] epoch: 20 train-loss: 0.5416027148013939\n",
      "[LOG 20230620-07:45:59] epoch: 21 train-loss: 0.5389993986341236\n",
      "[LOG 20230620-07:46:03] epoch: 22 train-loss: 0.5364212226003472\n",
      "[LOG 20230620-07:46:07] epoch: 23 train-loss: 0.5339088600073287\n",
      "[LOG 20230620-07:46:10] epoch: 24 train-loss: 0.5310804812765834\n",
      "[LOG 20230620-07:46:14] epoch: 25 train-loss: 0.5282829120469246\n",
      "[LOG 20230620-07:46:18] epoch: 26 train-loss: 0.5257891701228583\n",
      "[LOG 20230620-07:46:21] epoch: 27 train-loss: 0.5235034539374207\n",
      "[LOG 20230620-07:46:25] epoch: 28 train-loss: 0.5211600693685414\n",
      "[LOG 20230620-07:46:28] epoch: 29 train-loss: 0.5190731354359625\n",
      "[LOG 20230620-07:46:32] epoch: 30 train-loss: 0.5162588818622297\n",
      "[LOG 20230620-07:46:36] epoch: 31 train-loss: 0.5141061240040672\n",
      "[LOG 20230620-07:46:40] epoch: 32 train-loss: 0.5118999806548487\n",
      "[LOG 20230620-07:46:44] epoch: 33 train-loss: 0.5098649155991927\n",
      "[LOG 20230620-07:46:47] epoch: 34 train-loss: 0.507347410612269\n",
      "[LOG 20230620-07:46:51] epoch: 35 train-loss: 0.5051000890320044\n",
      "[LOG 20230620-07:46:55] epoch: 36 train-loss: 0.5029763692477619\n",
      "[LOG 20230620-07:46:59] epoch: 37 train-loss: 0.5010615197707341\n",
      "[LOG 20230620-07:47:03] epoch: 38 train-loss: 0.4990221110742484\n",
      "[LOG 20230620-07:47:07] epoch: 39 train-loss: 0.4967482597716073\n",
      "[LOG 20230620-07:47:10] epoch: 40 train-loss: 0.49459440291309154\n",
      "[LOG 20230620-07:47:14] epoch: 41 train-loss: 0.49272021403444854\n",
      "[LOG 20230620-07:47:18] epoch: 42 train-loss: 0.49119445560837605\n",
      "[LOG 20230620-07:47:21] epoch: 43 train-loss: 0.4890880931669207\n",
      "[LOG 20230620-07:47:25] epoch: 44 train-loss: 0.48717470838825333\n",
      "[LOG 20230620-07:47:29] epoch: 45 train-loss: 0.4857316256713257\n",
      "[LOG 20230620-07:47:32] epoch: 46 train-loss: 0.4837642890303882\n",
      "[LOG 20230620-07:47:36] epoch: 47 train-loss: 0.4818193008269328\n",
      "[LOG 20230620-07:47:40] epoch: 48 train-loss: 0.4801760181180958\n",
      "[LOG 20230620-07:47:43] epoch: 49 train-loss: 0.4784924274187352\n"
     ]
    }
   ],
   "source": [
    "# init collection of training epoch losses\n",
    "train_epoch_losses = []\n",
    "\n",
    "# set the model in training mode\n",
    "model.train()\n",
    "\n",
    "# train the FashionMNISTNet model\n",
    "for epoch in range(num_epochs):\n",
    "\n",
    "    # init collection of mini-batch losses\n",
    "    train_mini_batch_losses = []\n",
    "\n",
    "    # iterate over all-mini batches\n",
    "    for i, (images, labels) in enumerate(fashion_mnist_train_dataloader):\n",
    "\n",
    "          # push mini-batch data to computation device\n",
    "        images = images.to(device)\n",
    "        labels = labels.to(device)\n",
    "\n",
    "        # run forward pass through the network\n",
    "        output = model(images)\n",
    "\n",
    "        # reset graph gradients\n",
    "        model.zero_grad()\n",
    "\n",
    "        # determine classification loss\n",
    "        loss = nll_loss(output, labels)\n",
    "\n",
    "        # run backward pass\n",
    "        loss.backward()\n",
    "\n",
    "        # update network parameters\n",
    "        optimizer.step()\n",
    "\n",
    "        # collect mini-batch reconstruction loss\n",
    "        train_mini_batch_losses.append(loss.data.item())\n",
    "\n",
    "    # determine mean min-batch loss of epoch\n",
    "    train_epoch_loss = np.mean(train_mini_batch_losses)\n",
    "\n",
    "    # print epoch loss\n",
    "    now = datetime.utcnow().strftime(\"%Y%m%d-%H:%M:%S\")\n",
    "    print('[LOG {}] epoch: {} train-loss: {}'.format(str(now), str(epoch), str(train_epoch_loss)))\n",
    "\n",
    "    # set filename of actual model\n",
    "    model_name = 'FashionMNIST10_model_epoch_{}.pth'.format(str(epoch))\n",
    "\n",
    "    # save model to local directory\n",
    "    torch.save(model.state_dict(), os.path.join(models_directory, model_name))\n",
    "\n",
    "    # determine mean min-batch loss of epoch\n",
    "    train_epoch_losses.append(train_epoch_loss)"
   ],
   "metadata": {
    "colab": {
     "base_uri": "https://localhost:8080/"
    },
    "id": "Pss9JJt6LRyW",
    "outputId": "23591c47-5416-4469-e5ae-e1dbff336c09",
    "ExecuteTime": {
     "end_time": "2023-06-20T07:47:43.917084Z",
     "start_time": "2023-06-20T07:44:36.964227Z"
    }
   }
  },
  {
   "cell_type": "code",
   "source": [
    "# prepare plot\n",
    "fig = plt.figure()\n",
    "ax = fig.add_subplot(111)\n",
    "\n",
    "# add grid\n",
    "ax.grid(linestyle='dotted')\n",
    "\n",
    "# plot the training epochs vs. the epochs' classification error\n",
    "ax.plot(np.array(range(1, len(train_epoch_losses)+1)), train_epoch_losses, label='epoch loss (blue)')\n",
    "\n",
    "# add axis legends\n",
    "ax.set_xlabel(\"[training epoch $e_i$]\", fontsize=10)\n",
    "ax.set_ylabel(\"[Classification Error $\\mathcal{L}^{NLL}$]\", fontsize=10)\n",
    "\n",
    "# set plot legend\n",
    "plt.legend(loc=\"upper right\", numpoints=1, fancybox=True)\n",
    "\n",
    "# add plot title\n",
    "plt.title('Training Epochs $e_i$ vs. Classification Error $L^{NLL}$', fontsize=10);"
   ],
   "metadata": {
    "id": "nphBA0TC-P8X",
    "outputId": "e9903e55-dbb2-4ded-f9c9-303001026dfb",
    "colab": {
     "base_uri": "https://localhost:8080/",
     "height": 477
    },
    "ExecuteTime": {
     "end_time": "2023-06-20T07:47:44.140694Z",
     "start_time": "2023-06-20T07:47:43.932686Z"
    }
   },
   "execution_count": 24,
   "outputs": [
    {
     "data": {
      "text/plain": "<Figure size 640x480 with 1 Axes>",
      "image/png": "[encoded data removed]"
     },
     "metadata": {},
     "output_type": "display_data"
    }
   ]
  },
  {
   "cell_type": "code",
   "source": [
    "# init pre-trained model class\n",
    "best_model = FashionMNISTNet()\n",
    "\n",
    "# load pre-trained models\n",
    "# best_model.load_state_dict(torch.load('/content/drive/MyDrive/Colab Notebooks/models_fmnist/FashionMNIST10_model_epoch_49.pth'))\n",
    "best_model.load_state_dict(torch.load('./models_fmnist/FashionMNIST10_model_epoch_49.pth'))"
   ],
   "metadata": {
    "id": "7cUQGplv-U9_",
    "outputId": "729d079e-5352-4ac2-e68c-090655501bf5",
    "colab": {
     "base_uri": "https://localhost:8080/"
    },
    "ExecuteTime": {
     "end_time": "2023-06-20T07:49:36.932750Z",
     "start_time": "2023-06-20T07:49:36.921305Z"
    }
   },
   "execution_count": 27,
   "outputs": [
    {
     "data": {
      "text/plain": "<All keys matched successfully>"
     },
     "execution_count": 27,
     "metadata": {},
     "output_type": "execute_result"
    }
   ]
  },
  {
   "cell_type": "code",
   "source": [
    "# set model in evaluation mode\n",
    "best_model.eval()\n",
    "\n",
    "fashion_mnist_eval_dataloader = torch.utils.data.DataLoader(fashion_mnist_eval_data, batch_size=10000, shuffle=False)"
   ],
   "metadata": {
    "id": "EFNv3PwY-up2",
    "ExecuteTime": {
     "end_time": "2023-06-20T07:49:40.123633Z",
     "start_time": "2023-06-20T07:49:40.119237Z"
    }
   },
   "execution_count": 28,
   "outputs": []
  },
  {
   "cell_type": "code",
   "source": [
    "# init collection of mini-batch losses\n",
    "eval_mini_batch_losses = []\n",
    "\n",
    "# iterate over all-mini batches\n",
    "for i, (images, labels) in enumerate(fashion_mnist_eval_dataloader):\n",
    "\n",
    "    # run forward pass through the network\n",
    "    output = best_model(images)\n",
    "\n",
    "    # determine classification loss\n",
    "    loss = nll_loss(output, labels)\n",
    "\n",
    "    # collect mini-batch reconstruction loss\n",
    "    eval_mini_batch_losses.append(loss.data.item())\n",
    "\n",
    "# determine mean min-batch loss of epoch\n",
    "eval_loss = np.mean(eval_mini_batch_losses)\n",
    "\n",
    "# print epoch loss\n",
    "now = datetime.utcnow().strftime(\"%Y%m%d-%H:%M:%S\")\n",
    "print('[LOG {}] eval-loss: {}'.format(str(now), str(eval_loss)))"
   ],
   "metadata": {
    "id": "IhDV56iG-6xq",
    "outputId": "8044e13c-a41f-4f50-9472-34021e8f3f48",
    "colab": {
     "base_uri": "https://localhost:8080/"
    },
    "ExecuteTime": {
     "end_time": "2023-06-20T07:49:43.408673Z",
     "start_time": "2023-06-20T07:49:42.918609Z"
    }
   },
   "execution_count": 29,
   "outputs": [
    {
     "name": "stdout",
     "output_type": "stream",
     "text": [
      "[LOG 20230620-07:49:43] eval-loss: 0.5011612176895142\n"
     ]
    }
   ]
  },
  {
   "cell_type": "code",
   "source": [
    "predictions = torch.argmax(best_model(next(iter(fashion_mnist_eval_dataloader))[0]), dim=1)"
   ],
   "metadata": {
    "id": "7VWpb1-y_Gfq",
    "ExecuteTime": {
     "end_time": "2023-06-20T07:49:47.440743Z",
     "start_time": "2023-06-20T07:49:46.985710Z"
    }
   },
   "execution_count": 30,
   "outputs": []
  },
  {
   "cell_type": "code",
   "source": [
    "metrics.accuracy_score(fashion_mnist_eval_data.targets, predictions.detach())"
   ],
   "metadata": {
    "id": "vX-G4x6G_VMG",
    "outputId": "eada8746-d092-47b8-d322-a4bc2d3a7c1f",
    "colab": {
     "base_uri": "https://localhost:8080/"
    },
    "ExecuteTime": {
     "end_time": "2023-06-20T07:49:50.130564Z",
     "start_time": "2023-06-20T07:49:50.126062Z"
    }
   },
   "execution_count": 31,
   "outputs": [
    {
     "data": {
      "text/plain": "0.8257"
     },
     "execution_count": 31,
     "metadata": {},
     "output_type": "execute_result"
    }
   ]
  },
  {
   "cell_type": "code",
   "source": [
    "# determine classification matrix of the predicted and target classes\n",
    "mat = confusion_matrix(fashion_mnist_eval_data.targets, predictions.detach())\n",
    "\n",
    "# initialize the plot and define size\n",
    "plt.figure(figsize=(8, 8))\n",
    "\n",
    "# plot corresponding confusion matrix\n",
    "sns.heatmap(mat.T, square=True, annot=True, fmt='d', cbar=False, cmap='YlOrRd_r', xticklabels=fashion_classes, yticklabels=fashion_classes)\n",
    "plt.tick_params(axis='both', which='major', labelsize=8, labelbottom = False, bottom=False, top = False, left = False, labeltop=True)\n",
    "\n",
    "# set plot title\n",
    "plt.title('Fashion-MNIST classification matrix')\n",
    "\n",
    "# set plot axis lables\n",
    "plt.xlabel('[true label]')\n",
    "plt.ylabel('[predicted label]');"
   ],
   "metadata": {
    "id": "aqzjyya__k8r",
    "outputId": "cecb9943-aeaf-4eea-ade4-0543991d71da",
    "colab": {
     "base_uri": "https://localhost:8080/",
     "height": 714
    },
    "ExecuteTime": {
     "end_time": "2023-06-20T07:49:53.188759Z",
     "start_time": "2023-06-20T07:49:52.966951Z"
    }
   },
   "execution_count": 32,
   "outputs": [
    {
     "data": {
      "text/plain": "<Figure size 800x800 with 1 Axes>",
      "image/png": "[encoded data removed]"
     },
     "metadata": {},
     "output_type": "display_data"
    }
   ]
  },
  {
   "cell_type": "code",
   "execution_count": 33,
   "outputs": [
    {
     "name": "stdout",
     "output_type": "stream",
     "text": [
      "Not running on CoLab\n"
     ]
    }
   ],
   "source": [
    "if 'google.colab' in str(get_ipython()):\n",
    "  print('Running on CoLab')\n",
    "else:\n",
    "  print('Not running on CoLab')"
   ],
   "metadata": {
    "collapsed": false,
    "ExecuteTime": {
     "end_time": "2023-06-20T08:00:30.191273Z",
     "start_time": "2023-06-20T08:00:30.187964Z"
    }
   }
  },
  {
   "cell_type": "code",
   "execution_count": 35,
   "outputs": [
    {
     "data": {
      "text/plain": "[0.631019562673467,\n 0.62312450846121,\n 0.6159216766672602,\n 0.6095250009346619,\n 0.6032280135891839,\n 0.5977835704141589,\n 0.5925603468280866,\n 0.587617256811687,\n 0.5830480480499105,\n 0.5785766491122337,\n 0.5745199040563376,\n 0.5707317356234675,\n 0.5672450326144822,\n 0.5630900953878472,\n 0.5601732770898449,\n 0.5568273556130782,\n 0.5536376441846779,\n 0.5502204864518221,\n 0.547517436907998,\n 0.5443366698618891,\n 0.5416027148013939,\n 0.5389993986341236,\n 0.5364212226003472,\n 0.5339088600073287,\n 0.5310804812765834,\n 0.5282829120469246,\n 0.5257891701228583,\n 0.5235034539374207,\n 0.5211600693685414,\n 0.5190731354359625,\n 0.5162588818622297,\n 0.5141061240040672,\n 0.5118999806548487,\n 0.5098649155991927,\n 0.507347410612269,\n 0.5051000890320044,\n 0.5029763692477619,\n 0.5010615197707341,\n 0.4990221110742484,\n 0.4967482597716073,\n 0.49459440291309154,\n 0.49272021403444854,\n 0.49119445560837605,\n 0.4890880931669207,\n 0.48717470838825333,\n 0.4857316256713257,\n 0.4837642890303882,\n 0.4818193008269328,\n 0.4801760181180958,\n 0.4784924274187352]"
     },
     "execution_count": 35,
     "metadata": {},
     "output_type": "execute_result"
    }
   ],
   "source": [
    "train_epoch_losses"
   ],
   "metadata": {
    "collapsed": false,
    "ExecuteTime": {
     "end_time": "2023-06-20T08:32:46.862580Z",
     "start_time": "2023-06-20T08:32:46.859918Z"
    }
   }
  }
 ],
 "metadata": {
  "kernelspec": {
   "name": "python3",
   "language": "python",
   "display_name": "Python 3 (ipykernel)"
  },
  "language_info": {
   "codemirror_mode": {
    "name": "ipython",
    "version": 2
   },
   "file_extension": ".py",
   "mimetype": "text/x-python",
   "name": "python",
   "nbconvert_exporter": "python",
   "pygments_lexer": "ipython2",
   "version": "2.7.6"
  },
  "colab": {
   "provenance": [],
   "gpuType": "T4"
  },
  "accelerator": "GPU"
 },
 "nbformat": 4,
 "nbformat_minor": 0
}
